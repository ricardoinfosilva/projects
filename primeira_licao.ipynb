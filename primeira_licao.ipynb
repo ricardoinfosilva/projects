{
 "cells": [
  {
   "cell_type": "code",
   "execution_count": null,
   "metadata": {},
   "outputs": [],
   "source": [
    "# Importando bibliotecas necessárias para o projeto"
   ]
  },
  {
   "cell_type": "code",
   "execution_count": 16,
   "metadata": {},
   "outputs": [],
   "source": [
    "import pyodbc\n",
    "import pandas as pd\n",
    "import numpy as np\n",
    "import duckdb\n",
    "connection = duckdb.connect()"
   ]
  },
  {
   "cell_type": "code",
   "execution_count": 17,
   "metadata": {},
   "outputs": [],
   "source": [
    "# conectando no bd sql server teste2"
   ]
  },
  {
   "cell_type": "code",
   "execution_count": 18,
   "metadata": {},
   "outputs": [],
   "source": [
    "def retornar_conexao_sql():\n",
    "    try:\n",
    "        server = \"LAPTOP-3H7TVLV9\"\n",
    "        database = \"Datalake\"\n",
    "        string_conexao = 'Driver={SQL Server Native Client 11.0};Server='+server+';Database='+database+';Trusted_Connection=yes;'\n",
    "        conexao = pyodbc.connect(string_conexao)\n",
    "        print('Conexão realizada com sucesso')\n",
    "    except Error as err:\n",
    "        print(f\"Error: '{err}'\")\n",
    "    return conexao"
   ]
  },
  {
   "cell_type": "code",
   "execution_count": 19,
   "metadata": {},
   "outputs": [],
   "source": [
    "def retornar_conexao_sql():\n",
    "    server = \"LAPTOP-3H7TVLV9\"\n",
    "    database = \"Datalake\"\n",
    "    #username = \"python\"\n",
    "    #password = \"qweasd321\"\n",
    "    string_conexao = 'Driver={SQL Server Native Client 11.0};Server='+server+';Database='+database+';Trusted_Connection=yes;'\n",
    "    conexao = pyodbc.connect(string_conexao)\n",
    "    return conexao"
   ]
  },
  {
   "cell_type": "code",
   "execution_count": 20,
   "metadata": {},
   "outputs": [
    {
     "data": {
      "text/plain": [
       "<pyodbc.Connection at 0x1e17788b920>"
      ]
     },
     "execution_count": 20,
     "metadata": {},
     "output_type": "execute_result"
    }
   ],
   "source": [
    "retornar_conexao_sql()"
   ]
  },
  {
   "cell_type": "code",
   "execution_count": 21,
   "metadata": {},
   "outputs": [],
   "source": [
    "cursor = retornar_conexao_sql()"
   ]
  },
  {
   "cell_type": "code",
   "execution_count": 22,
   "metadata": {},
   "outputs": [],
   "source": [
    "sql = (\"select * from Usuarios.Cadastros\")\n"
   ]
  },
  {
   "cell_type": "code",
   "execution_count": 27,
   "metadata": {},
   "outputs": [
    {
     "data": {
      "text/plain": [
       "┌───────┬──────────────────┬──────────┬───────────┬───────────────────────────┐\n",
       "│  Id   │     strNome      │ strIdade │ strEstado │       strProfissao        │\n",
       "│ int64 │     varchar      │  int64   │  varchar  │          varchar          │\n",
       "├───────┼──────────────────┼──────────┼───────────┼───────────────────────────┤\n",
       "│     1 │ Ricardo Silva    │       41 │ SP        │ Tech Lead                 │\n",
       "│     2 │ Natalia Oliveira │       35 │ SP        │ Analista de Dados Jr      │\n",
       "│     3 │ Carlos Oliveira  │       39 │ SP        │ Corretor de Seguros       │\n",
       "│     4 │ Alexandre        │       29 │ MG        │ Engenheiro de Dados Pleno │\n",
       "│     5 │ Paula            │       35 │ MG        │ Engenheiro de Dados Pleno │\n",
       "│     6 │ Abner            │       35 │ SP        │ Cordenador                │\n",
       "│     7 │ Neymar           │       30 │ SP        │ Jogador de Futebol        │\n",
       "└───────┴──────────────────┴──────────┴───────────┴───────────────────────────┘"
      ]
     },
     "execution_count": 27,
     "metadata": {},
     "output_type": "execute_result"
    }
   ],
   "source": [
    "duckdb.read_csv('C:\\\\Users\\\\ricar\\\\Downloads\\\\Python-Data-Science-and-Machine-Learning-Bootcamp\\\\cadastros.csv')"
   ]
  },
  {
   "cell_type": "code",
   "execution_count": 23,
   "metadata": {},
   "outputs": [],
   "source": [
    "df_cadastro = pd.read_sql(sql,cursor)"
   ]
  },
  {
   "cell_type": "code",
   "execution_count": 8,
   "metadata": {},
   "outputs": [
    {
     "data": {
      "text/html": [
       "<div>\n",
       "<style scoped>\n",
       "    .dataframe tbody tr th:only-of-type {\n",
       "        vertical-align: middle;\n",
       "    }\n",
       "\n",
       "    .dataframe tbody tr th {\n",
       "        vertical-align: top;\n",
       "    }\n",
       "\n",
       "    .dataframe thead th {\n",
       "        text-align: right;\n",
       "    }\n",
       "</style>\n",
       "<table border=\"1\" class=\"dataframe\">\n",
       "  <thead>\n",
       "    <tr style=\"text-align: right;\">\n",
       "      <th></th>\n",
       "      <th>id</th>\n",
       "      <th>strNome</th>\n",
       "      <th>strIdade</th>\n",
       "      <th>strEstado</th>\n",
       "      <th>strProfissao</th>\n",
       "      <th>dtNascimento</th>\n",
       "    </tr>\n",
       "  </thead>\n",
       "  <tbody>\n",
       "    <tr>\n",
       "      <td>0</td>\n",
       "      <td>1</td>\n",
       "      <td>Ricardo Aparecido da Silva</td>\n",
       "      <td>41</td>\n",
       "      <td>SP</td>\n",
       "      <td>Tech Lead</td>\n",
       "      <td>2008-12-17 14:37:56.310</td>\n",
       "    </tr>\n",
       "    <tr>\n",
       "      <td>1</td>\n",
       "      <td>2</td>\n",
       "      <td>Natalia Oliveira</td>\n",
       "      <td>35</td>\n",
       "      <td>SP</td>\n",
       "      <td>Analista de Dados Jr</td>\n",
       "      <td>1981-08-01 14:38:26.467</td>\n",
       "    </tr>\n",
       "    <tr>\n",
       "      <td>2</td>\n",
       "      <td>3</td>\n",
       "      <td>Carlos Oliveira</td>\n",
       "      <td>39</td>\n",
       "      <td>SP</td>\n",
       "      <td>Corretor de Seguros</td>\n",
       "      <td>1995-04-10 14:38:46.750</td>\n",
       "    </tr>\n",
       "    <tr>\n",
       "      <td>3</td>\n",
       "      <td>4</td>\n",
       "      <td>Alexandre Pato</td>\n",
       "      <td>29</td>\n",
       "      <td>MG</td>\n",
       "      <td>Engenheiro de Dados Pleno</td>\n",
       "      <td>2008-12-17 14:39:00.180</td>\n",
       "    </tr>\n",
       "    <tr>\n",
       "      <td>4</td>\n",
       "      <td>5</td>\n",
       "      <td>Paula Amancio</td>\n",
       "      <td>35</td>\n",
       "      <td>MG</td>\n",
       "      <td>Engenheiro de Dados Pleno</td>\n",
       "      <td>2014-06-09 14:37:12.983</td>\n",
       "    </tr>\n",
       "    <tr>\n",
       "      <td>5</td>\n",
       "      <td>7</td>\n",
       "      <td>Robert Soares de Souza</td>\n",
       "      <td>30</td>\n",
       "      <td>RJ</td>\n",
       "      <td>Enfermeiro</td>\n",
       "      <td>2022-09-21 08:54:24.093</td>\n",
       "    </tr>\n",
       "    <tr>\n",
       "      <td>6</td>\n",
       "      <td>8</td>\n",
       "      <td>João Marcelo</td>\n",
       "      <td>55</td>\n",
       "      <td>RJ</td>\n",
       "      <td>Segurança</td>\n",
       "      <td>2024-12-09 10:29:33.590</td>\n",
       "    </tr>\n",
       "    <tr>\n",
       "      <td>7</td>\n",
       "      <td>9</td>\n",
       "      <td>Neymar Jr.</td>\n",
       "      <td>30</td>\n",
       "      <td>SP</td>\n",
       "      <td>Jogador de Futebol</td>\n",
       "      <td>2024-12-09 10:36:49.313</td>\n",
       "    </tr>\n",
       "    <tr>\n",
       "      <td>8</td>\n",
       "      <td>10</td>\n",
       "      <td>Pelé.</td>\n",
       "      <td>80</td>\n",
       "      <td>SP</td>\n",
       "      <td>Jogador de Futebol</td>\n",
       "      <td>2024-12-09 10:38:27.697</td>\n",
       "    </tr>\n",
       "  </tbody>\n",
       "</table>\n",
       "</div>"
      ],
      "text/plain": [
       "   id                     strNome  strIdade strEstado  \\\n",
       "0   1  Ricardo Aparecido da Silva        41        SP   \n",
       "1   2            Natalia Oliveira        35        SP   \n",
       "2   3             Carlos Oliveira        39        SP   \n",
       "3   4              Alexandre Pato        29        MG   \n",
       "4   5               Paula Amancio        35        MG   \n",
       "5   7      Robert Soares de Souza        30        RJ   \n",
       "6   8                João Marcelo        55        RJ   \n",
       "7   9                  Neymar Jr.        30        SP   \n",
       "8  10                       Pelé.        80        SP   \n",
       "\n",
       "                strProfissao            dtNascimento  \n",
       "0                  Tech Lead 2008-12-17 14:37:56.310  \n",
       "1       Analista de Dados Jr 1981-08-01 14:38:26.467  \n",
       "2        Corretor de Seguros 1995-04-10 14:38:46.750  \n",
       "3  Engenheiro de Dados Pleno 2008-12-17 14:39:00.180  \n",
       "4  Engenheiro de Dados Pleno 2014-06-09 14:37:12.983  \n",
       "5                 Enfermeiro 2022-09-21 08:54:24.093  \n",
       "6                  Segurança 2024-12-09 10:29:33.590  \n",
       "7         Jogador de Futebol 2024-12-09 10:36:49.313  \n",
       "8         Jogador de Futebol 2024-12-09 10:38:27.697  "
      ]
     },
     "metadata": {},
     "output_type": "display_data"
    }
   ],
   "source": [
    "display(df_cadastro)"
   ]
  },
  {
   "cell_type": "code",
   "execution_count": 9,
   "metadata": {},
   "outputs": [
    {
     "data": {
      "text/html": [
       "<div>\n",
       "<style scoped>\n",
       "    .dataframe tbody tr th:only-of-type {\n",
       "        vertical-align: middle;\n",
       "    }\n",
       "\n",
       "    .dataframe tbody tr th {\n",
       "        vertical-align: top;\n",
       "    }\n",
       "\n",
       "    .dataframe thead th {\n",
       "        text-align: right;\n",
       "    }\n",
       "</style>\n",
       "<table border=\"1\" class=\"dataframe\">\n",
       "  <thead>\n",
       "    <tr style=\"text-align: right;\">\n",
       "      <th></th>\n",
       "      <th>id</th>\n",
       "      <th>strNome</th>\n",
       "      <th>strIdade</th>\n",
       "      <th>strEstado</th>\n",
       "      <th>strProfissao</th>\n",
       "      <th>dtNascimento</th>\n",
       "    </tr>\n",
       "  </thead>\n",
       "  <tbody>\n",
       "    <tr>\n",
       "      <td>1</td>\n",
       "      <td>2</td>\n",
       "      <td>Natalia Oliveira</td>\n",
       "      <td>35</td>\n",
       "      <td>SP</td>\n",
       "      <td>Analista de Dados Jr</td>\n",
       "      <td>1981-08-01 14:38:26.467</td>\n",
       "    </tr>\n",
       "  </tbody>\n",
       "</table>\n",
       "</div>"
      ],
      "text/plain": [
       "   id           strNome  strIdade strEstado          strProfissao  \\\n",
       "1   2  Natalia Oliveira        35        SP  Analista de Dados Jr   \n",
       "\n",
       "             dtNascimento  \n",
       "1 1981-08-01 14:38:26.467  "
      ]
     },
     "execution_count": 9,
     "metadata": {},
     "output_type": "execute_result"
    }
   ],
   "source": [
    "df_cadastro[df_cadastro.strNome.str.startswith('Nat')]"
   ]
  },
  {
   "cell_type": "code",
   "execution_count": 10,
   "metadata": {},
   "outputs": [
    {
     "data": {
      "text/html": [
       "<div>\n",
       "<style scoped>\n",
       "    .dataframe tbody tr th:only-of-type {\n",
       "        vertical-align: middle;\n",
       "    }\n",
       "\n",
       "    .dataframe tbody tr th {\n",
       "        vertical-align: top;\n",
       "    }\n",
       "\n",
       "    .dataframe thead th {\n",
       "        text-align: right;\n",
       "    }\n",
       "</style>\n",
       "<table border=\"1\" class=\"dataframe\">\n",
       "  <thead>\n",
       "    <tr style=\"text-align: right;\">\n",
       "      <th></th>\n",
       "      <th>id</th>\n",
       "      <th>strNome</th>\n",
       "      <th>strIdade</th>\n",
       "      <th>strEstado</th>\n",
       "      <th>strProfissao</th>\n",
       "      <th>dtNascimento</th>\n",
       "    </tr>\n",
       "  </thead>\n",
       "  <tbody>\n",
       "    <tr>\n",
       "      <td>0</td>\n",
       "      <td>1</td>\n",
       "      <td>Ricardo Aparecido da Silva</td>\n",
       "      <td>41</td>\n",
       "      <td>SP</td>\n",
       "      <td>Tech Lead</td>\n",
       "      <td>2008-12-17 14:37:56.310</td>\n",
       "    </tr>\n",
       "  </tbody>\n",
       "</table>\n",
       "</div>"
      ],
      "text/plain": [
       "   id                     strNome  strIdade strEstado strProfissao  \\\n",
       "0   1  Ricardo Aparecido da Silva        41        SP    Tech Lead   \n",
       "\n",
       "             dtNascimento  \n",
       "0 2008-12-17 14:37:56.310  "
      ]
     },
     "execution_count": 10,
     "metadata": {},
     "output_type": "execute_result"
    }
   ],
   "source": [
    "df_cadastro.query('strProfissao == \"Tech Lead\"')"
   ]
  },
  {
   "cell_type": "code",
   "execution_count": 28,
   "metadata": {},
   "outputs": [
    {
     "data": {
      "text/html": [
       "<div>\n",
       "<style scoped>\n",
       "    .dataframe tbody tr th:only-of-type {\n",
       "        vertical-align: middle;\n",
       "    }\n",
       "\n",
       "    .dataframe tbody tr th {\n",
       "        vertical-align: top;\n",
       "    }\n",
       "\n",
       "    .dataframe thead th {\n",
       "        text-align: right;\n",
       "    }\n",
       "</style>\n",
       "<table border=\"1\" class=\"dataframe\">\n",
       "  <thead>\n",
       "    <tr style=\"text-align: right;\">\n",
       "      <th></th>\n",
       "      <th>id</th>\n",
       "      <th>strNome</th>\n",
       "      <th>strIdade</th>\n",
       "      <th>strEstado</th>\n",
       "      <th>strProfissao</th>\n",
       "      <th>dtNascimento</th>\n",
       "    </tr>\n",
       "  </thead>\n",
       "  <tbody>\n",
       "    <tr>\n",
       "      <td>0</td>\n",
       "      <td>1</td>\n",
       "      <td>Ricardo Aparecido da Silva</td>\n",
       "      <td>41</td>\n",
       "      <td>SP</td>\n",
       "      <td>Tech Lead</td>\n",
       "      <td>2008-12-17 14:37:56.310</td>\n",
       "    </tr>\n",
       "    <tr>\n",
       "      <td>1</td>\n",
       "      <td>2</td>\n",
       "      <td>Natalia Oliveira</td>\n",
       "      <td>35</td>\n",
       "      <td>SP</td>\n",
       "      <td>Analista de Dados Jr</td>\n",
       "      <td>1981-08-01 14:38:26.467</td>\n",
       "    </tr>\n",
       "    <tr>\n",
       "      <td>2</td>\n",
       "      <td>3</td>\n",
       "      <td>Carlos Oliveira</td>\n",
       "      <td>39</td>\n",
       "      <td>SP</td>\n",
       "      <td>Corretor de Seguros</td>\n",
       "      <td>1995-04-10 14:38:46.750</td>\n",
       "    </tr>\n",
       "    <tr>\n",
       "      <td>7</td>\n",
       "      <td>9</td>\n",
       "      <td>Neymar Jr.</td>\n",
       "      <td>30</td>\n",
       "      <td>SP</td>\n",
       "      <td>Jogador de Futebol</td>\n",
       "      <td>2024-12-09 10:36:49.313</td>\n",
       "    </tr>\n",
       "    <tr>\n",
       "      <td>8</td>\n",
       "      <td>10</td>\n",
       "      <td>Pelé.</td>\n",
       "      <td>80</td>\n",
       "      <td>SP</td>\n",
       "      <td>Jogador de Futebol</td>\n",
       "      <td>2024-12-09 10:38:27.697</td>\n",
       "    </tr>\n",
       "  </tbody>\n",
       "</table>\n",
       "</div>"
      ],
      "text/plain": [
       "   id                     strNome  strIdade strEstado          strProfissao  \\\n",
       "0   1  Ricardo Aparecido da Silva        41        SP             Tech Lead   \n",
       "1   2            Natalia Oliveira        35        SP  Analista de Dados Jr   \n",
       "2   3             Carlos Oliveira        39        SP   Corretor de Seguros   \n",
       "7   9                  Neymar Jr.        30        SP    Jogador de Futebol   \n",
       "8  10                       Pelé.        80        SP    Jogador de Futebol   \n",
       "\n",
       "             dtNascimento  \n",
       "0 2008-12-17 14:37:56.310  \n",
       "1 1981-08-01 14:38:26.467  \n",
       "2 1995-04-10 14:38:46.750  \n",
       "7 2024-12-09 10:36:49.313  \n",
       "8 2024-12-09 10:38:27.697  "
      ]
     },
     "execution_count": 28,
     "metadata": {},
     "output_type": "execute_result"
    }
   ],
   "source": [
    "df_cadastro.query('strEstado == \"SP\"')"
   ]
  },
  {
   "cell_type": "code",
   "execution_count": 11,
   "metadata": {},
   "outputs": [
    {
     "data": {
      "text/html": [
       "<div>\n",
       "<style scoped>\n",
       "    .dataframe tbody tr th:only-of-type {\n",
       "        vertical-align: middle;\n",
       "    }\n",
       "\n",
       "    .dataframe tbody tr th {\n",
       "        vertical-align: top;\n",
       "    }\n",
       "\n",
       "    .dataframe thead th {\n",
       "        text-align: right;\n",
       "    }\n",
       "</style>\n",
       "<table border=\"1\" class=\"dataframe\">\n",
       "  <thead>\n",
       "    <tr style=\"text-align: right;\">\n",
       "      <th></th>\n",
       "      <th>Id</th>\n",
       "      <th>strNome</th>\n",
       "      <th>strIdade</th>\n",
       "      <th>strEstado</th>\n",
       "      <th>strProfissao</th>\n",
       "    </tr>\n",
       "  </thead>\n",
       "  <tbody>\n",
       "    <tr>\n",
       "      <td>0</td>\n",
       "      <td>1</td>\n",
       "      <td>Ricardo Silva</td>\n",
       "      <td>41</td>\n",
       "      <td>SP</td>\n",
       "      <td>Tech Lead</td>\n",
       "    </tr>\n",
       "    <tr>\n",
       "      <td>1</td>\n",
       "      <td>2</td>\n",
       "      <td>Natalia Oliveira</td>\n",
       "      <td>35</td>\n",
       "      <td>SP</td>\n",
       "      <td>Analista de Dados Jr</td>\n",
       "    </tr>\n",
       "    <tr>\n",
       "      <td>2</td>\n",
       "      <td>3</td>\n",
       "      <td>Carlos Oliveira</td>\n",
       "      <td>39</td>\n",
       "      <td>SP</td>\n",
       "      <td>Corretor de Seguros</td>\n",
       "    </tr>\n",
       "    <tr>\n",
       "      <td>3</td>\n",
       "      <td>4</td>\n",
       "      <td>Alexandre</td>\n",
       "      <td>29</td>\n",
       "      <td>MG</td>\n",
       "      <td>Engenheiro de Dados Pleno</td>\n",
       "    </tr>\n",
       "    <tr>\n",
       "      <td>4</td>\n",
       "      <td>5</td>\n",
       "      <td>Paula</td>\n",
       "      <td>35</td>\n",
       "      <td>MG</td>\n",
       "      <td>Engenheiro de Dados Pleno</td>\n",
       "    </tr>\n",
       "    <tr>\n",
       "      <td>5</td>\n",
       "      <td>6</td>\n",
       "      <td>Abner</td>\n",
       "      <td>35</td>\n",
       "      <td>SP</td>\n",
       "      <td>Cordenador</td>\n",
       "    </tr>\n",
       "  </tbody>\n",
       "</table>\n",
       "</div>"
      ],
      "text/plain": [
       "   Id           strNome  strIdade strEstado               strProfissao\n",
       "0   1     Ricardo Silva        41        SP                  Tech Lead\n",
       "1   2  Natalia Oliveira        35        SP       Analista de Dados Jr\n",
       "2   3   Carlos Oliveira        39        SP        Corretor de Seguros\n",
       "3   4         Alexandre        29        MG  Engenheiro de Dados Pleno\n",
       "4   5             Paula        35        MG  Engenheiro de Dados Pleno\n",
       "5   6             Abner        35        SP                 Cordenador"
      ]
     },
     "execution_count": 11,
     "metadata": {},
     "output_type": "execute_result"
    }
   ],
   "source": [
    "pd.read_csv('C:\\\\Users\\\\ricar\\\\Downloads\\\\Python-Data-Science-and-Machine-Learning-Bootcamp\\\\cadastros.csv'\n",
    "            ,delimiter = ';',header = 0)"
   ]
  },
  {
   "cell_type": "code",
   "execution_count": 11,
   "metadata": {},
   "outputs": [],
   "source": [
    "df_teste = pd.read_csv('C:\\\\Users\\\\ricar\\\\Downloads\\\\Python-Data-Science-and-Machine-Learning-Bootcamp\\\\cadastros.csv'\n",
    "            ,delimiter = ';',header = 0)"
   ]
  },
  {
   "cell_type": "code",
   "execution_count": 12,
   "metadata": {},
   "outputs": [
    {
     "data": {
      "text/html": [
       "<div>\n",
       "<style scoped>\n",
       "    .dataframe tbody tr th:only-of-type {\n",
       "        vertical-align: middle;\n",
       "    }\n",
       "\n",
       "    .dataframe tbody tr th {\n",
       "        vertical-align: top;\n",
       "    }\n",
       "\n",
       "    .dataframe thead th {\n",
       "        text-align: right;\n",
       "    }\n",
       "</style>\n",
       "<table border=\"1\" class=\"dataframe\">\n",
       "  <thead>\n",
       "    <tr style=\"text-align: right;\">\n",
       "      <th></th>\n",
       "      <th>Id</th>\n",
       "      <th>strNome</th>\n",
       "      <th>strIdade</th>\n",
       "      <th>strEstado</th>\n",
       "      <th>strProfissao</th>\n",
       "    </tr>\n",
       "  </thead>\n",
       "  <tbody>\n",
       "    <tr>\n",
       "      <th>0</th>\n",
       "      <td>1</td>\n",
       "      <td>Ricardo Silva</td>\n",
       "      <td>41</td>\n",
       "      <td>SP</td>\n",
       "      <td>Tech Lead</td>\n",
       "    </tr>\n",
       "    <tr>\n",
       "      <th>1</th>\n",
       "      <td>2</td>\n",
       "      <td>Natalia Oliveira</td>\n",
       "      <td>35</td>\n",
       "      <td>SP</td>\n",
       "      <td>Analista de Dados Jr</td>\n",
       "    </tr>\n",
       "    <tr>\n",
       "      <th>2</th>\n",
       "      <td>3</td>\n",
       "      <td>Carlos Oliveira</td>\n",
       "      <td>39</td>\n",
       "      <td>SP</td>\n",
       "      <td>Corretor de Seguros</td>\n",
       "    </tr>\n",
       "    <tr>\n",
       "      <th>3</th>\n",
       "      <td>4</td>\n",
       "      <td>Alexandre</td>\n",
       "      <td>29</td>\n",
       "      <td>MG</td>\n",
       "      <td>Engenheiro de Dados Pleno</td>\n",
       "    </tr>\n",
       "    <tr>\n",
       "      <th>4</th>\n",
       "      <td>5</td>\n",
       "      <td>Paula</td>\n",
       "      <td>35</td>\n",
       "      <td>MG</td>\n",
       "      <td>Engenheiro de Dados Pleno</td>\n",
       "    </tr>\n",
       "  </tbody>\n",
       "</table>\n",
       "</div>"
      ],
      "text/plain": [
       "   Id           strNome  strIdade strEstado               strProfissao\n",
       "0   1     Ricardo Silva        41        SP                  Tech Lead\n",
       "1   2  Natalia Oliveira        35        SP       Analista de Dados Jr\n",
       "2   3   Carlos Oliveira        39        SP        Corretor de Seguros\n",
       "3   4         Alexandre        29        MG  Engenheiro de Dados Pleno\n",
       "4   5             Paula        35        MG  Engenheiro de Dados Pleno"
      ]
     },
     "metadata": {},
     "output_type": "display_data"
    }
   ],
   "source": [
    "display(df_teste)"
   ]
  },
  {
   "cell_type": "code",
   "execution_count": 40,
   "metadata": {},
   "outputs": [
    {
     "data": {
      "text/html": [
       "<div>\n",
       "<style scoped>\n",
       "    .dataframe tbody tr th:only-of-type {\n",
       "        vertical-align: middle;\n",
       "    }\n",
       "\n",
       "    .dataframe tbody tr th {\n",
       "        vertical-align: top;\n",
       "    }\n",
       "\n",
       "    .dataframe thead th {\n",
       "        text-align: right;\n",
       "    }\n",
       "</style>\n",
       "<table border=\"1\" class=\"dataframe\">\n",
       "  <thead>\n",
       "    <tr style=\"text-align: right;\">\n",
       "      <th></th>\n",
       "      <th>A</th>\n",
       "    </tr>\n",
       "  </thead>\n",
       "  <tbody>\n",
       "    <tr>\n",
       "      <th>0</th>\n",
       "      <td>0</td>\n",
       "    </tr>\n",
       "    <tr>\n",
       "      <th>1</th>\n",
       "      <td>1</td>\n",
       "    </tr>\n",
       "    <tr>\n",
       "      <th>2</th>\n",
       "      <td>2</td>\n",
       "    </tr>\n",
       "    <tr>\n",
       "      <th>3</th>\n",
       "      <td>3</td>\n",
       "    </tr>\n",
       "    <tr>\n",
       "      <th>4</th>\n",
       "      <td>4</td>\n",
       "    </tr>\n",
       "  </tbody>\n",
       "</table>\n",
       "</div>"
      ],
      "text/plain": [
       "   A\n",
       "0  0\n",
       "1  1\n",
       "2  2\n",
       "3  3\n",
       "4  4"
      ]
     },
     "execution_count": 40,
     "metadata": {},
     "output_type": "execute_result"
    }
   ],
   "source": [
    "df = pd.DataFrame(columns=['A'])\n",
    "for i in range(5):\n",
    "    df = df.append({'A': i}, ignore_index=True)\n",
    "df"
   ]
  },
  {
   "cell_type": "code",
   "execution_count": 13,
   "metadata": {},
   "outputs": [],
   "source": [
    "usuarios_cadastros = (\"select * from Usuarios.Cadastros\")\n",
    "usuarios_documentos = (\"select * from Usuarios.Documentos\")"
   ]
  },
  {
   "cell_type": "code",
   "execution_count": 14,
   "metadata": {},
   "outputs": [],
   "source": [
    "df_cadastro = pd.read_sql(usuarios_cadastros,cursor)\n",
    "df_documentos = pd.read_sql(usuarios_documentos,cursor)"
   ]
  },
  {
   "cell_type": "code",
   "execution_count": 15,
   "metadata": {},
   "outputs": [
    {
     "data": {
      "text/html": [
       "<div>\n",
       "<style scoped>\n",
       "    .dataframe tbody tr th:only-of-type {\n",
       "        vertical-align: middle;\n",
       "    }\n",
       "\n",
       "    .dataframe tbody tr th {\n",
       "        vertical-align: top;\n",
       "    }\n",
       "\n",
       "    .dataframe thead th {\n",
       "        text-align: right;\n",
       "    }\n",
       "</style>\n",
       "<table border=\"1\" class=\"dataframe\">\n",
       "  <thead>\n",
       "    <tr style=\"text-align: right;\">\n",
       "      <th></th>\n",
       "      <th>id</th>\n",
       "      <th>strNome</th>\n",
       "      <th>strIdade</th>\n",
       "      <th>strEstado</th>\n",
       "      <th>strProfissao</th>\n",
       "      <th>dtNascimento</th>\n",
       "    </tr>\n",
       "  </thead>\n",
       "  <tbody>\n",
       "    <tr>\n",
       "      <td>0</td>\n",
       "      <td>1</td>\n",
       "      <td>Ricardo Silva</td>\n",
       "      <td>41</td>\n",
       "      <td>SP</td>\n",
       "      <td>Tech Lead</td>\n",
       "      <td>2008-12-17 14:37:56.310</td>\n",
       "    </tr>\n",
       "    <tr>\n",
       "      <td>1</td>\n",
       "      <td>2</td>\n",
       "      <td>Natalia Oliveira</td>\n",
       "      <td>35</td>\n",
       "      <td>SP</td>\n",
       "      <td>Analista de Dados Jr</td>\n",
       "      <td>1981-08-01 14:38:26.467</td>\n",
       "    </tr>\n",
       "    <tr>\n",
       "      <td>2</td>\n",
       "      <td>3</td>\n",
       "      <td>Carlos Oliveira</td>\n",
       "      <td>39</td>\n",
       "      <td>SP</td>\n",
       "      <td>Corretor de Seguros</td>\n",
       "      <td>1995-04-10 14:38:46.750</td>\n",
       "    </tr>\n",
       "    <tr>\n",
       "      <td>3</td>\n",
       "      <td>4</td>\n",
       "      <td>Alexandre</td>\n",
       "      <td>29</td>\n",
       "      <td>MG</td>\n",
       "      <td>Engenheiro de Dados Pleno</td>\n",
       "      <td>2008-12-17 14:39:00.180</td>\n",
       "    </tr>\n",
       "    <tr>\n",
       "      <td>4</td>\n",
       "      <td>5</td>\n",
       "      <td>Paula</td>\n",
       "      <td>35</td>\n",
       "      <td>MG</td>\n",
       "      <td>Engenheiro de Dados Pleno</td>\n",
       "      <td>2014-06-09 14:37:12.983</td>\n",
       "    </tr>\n",
       "  </tbody>\n",
       "</table>\n",
       "</div>"
      ],
      "text/plain": [
       "   id           strNome  strIdade strEstado               strProfissao  \\\n",
       "0   1     Ricardo Silva        41        SP                  Tech Lead   \n",
       "1   2  Natalia Oliveira        35        SP       Analista de Dados Jr   \n",
       "2   3   Carlos Oliveira        39        SP        Corretor de Seguros   \n",
       "3   4         Alexandre        29        MG  Engenheiro de Dados Pleno   \n",
       "4   5             Paula        35        MG  Engenheiro de Dados Pleno   \n",
       "\n",
       "             dtNascimento  \n",
       "0 2008-12-17 14:37:56.310  \n",
       "1 1981-08-01 14:38:26.467  \n",
       "2 1995-04-10 14:38:46.750  \n",
       "3 2008-12-17 14:39:00.180  \n",
       "4 2014-06-09 14:37:12.983  "
      ]
     },
     "metadata": {},
     "output_type": "display_data"
    }
   ],
   "source": [
    "display(df_cadastro)"
   ]
  },
  {
   "cell_type": "code",
   "execution_count": 17,
   "metadata": {},
   "outputs": [
    {
     "data": {
      "text/html": [
       "<div>\n",
       "<style scoped>\n",
       "    .dataframe tbody tr th:only-of-type {\n",
       "        vertical-align: middle;\n",
       "    }\n",
       "\n",
       "    .dataframe tbody tr th {\n",
       "        vertical-align: top;\n",
       "    }\n",
       "\n",
       "    .dataframe thead th {\n",
       "        text-align: right;\n",
       "    }\n",
       "</style>\n",
       "<table border=\"1\" class=\"dataframe\">\n",
       "  <thead>\n",
       "    <tr style=\"text-align: right;\">\n",
       "      <th></th>\n",
       "      <th>id</th>\n",
       "      <th>cpf</th>\n",
       "    </tr>\n",
       "  </thead>\n",
       "  <tbody>\n",
       "    <tr>\n",
       "      <td>0</td>\n",
       "      <td>1</td>\n",
       "      <td>27664564858</td>\n",
       "    </tr>\n",
       "    <tr>\n",
       "      <td>1</td>\n",
       "      <td>2</td>\n",
       "      <td>35664564858</td>\n",
       "    </tr>\n",
       "    <tr>\n",
       "      <td>2</td>\n",
       "      <td>3</td>\n",
       "      <td>13464564858</td>\n",
       "    </tr>\n",
       "    <tr>\n",
       "      <td>3</td>\n",
       "      <td>4</td>\n",
       "      <td>668664858</td>\n",
       "    </tr>\n",
       "  </tbody>\n",
       "</table>\n",
       "</div>"
      ],
      "text/plain": [
       "   id          cpf\n",
       "0   1  27664564858\n",
       "1   2  35664564858\n",
       "2   3  13464564858\n",
       "3   4  668664858  "
      ]
     },
     "metadata": {},
     "output_type": "display_data"
    }
   ],
   "source": [
    "display(df_documentos)"
   ]
  },
  {
   "cell_type": "code",
   "execution_count": 26,
   "metadata": {},
   "outputs": [
    {
     "name": "stdout",
     "output_type": "stream",
     "text": [
      "   id          cpf\n",
      "0   1  27664564858\n",
      "1   2  35664564858\n",
      "2   3  13464564858\n",
      "3   4  668664858  \n"
     ]
    }
   ],
   "source": [
    "print(df_documentos)"
   ]
  },
  {
   "cell_type": "code",
   "execution_count": 37,
   "metadata": {},
   "outputs": [],
   "source": [
    "result = pd.concat([df_cadastro, df_documentos], axis=1, join=\"inner\")"
   ]
  },
  {
   "cell_type": "code",
   "execution_count": 38,
   "metadata": {},
   "outputs": [
    {
     "data": {
      "text/html": [
       "<div>\n",
       "<style scoped>\n",
       "    .dataframe tbody tr th:only-of-type {\n",
       "        vertical-align: middle;\n",
       "    }\n",
       "\n",
       "    .dataframe tbody tr th {\n",
       "        vertical-align: top;\n",
       "    }\n",
       "\n",
       "    .dataframe thead th {\n",
       "        text-align: right;\n",
       "    }\n",
       "</style>\n",
       "<table border=\"1\" class=\"dataframe\">\n",
       "  <thead>\n",
       "    <tr style=\"text-align: right;\">\n",
       "      <th></th>\n",
       "      <th>Id</th>\n",
       "      <th>strNome</th>\n",
       "      <th>strIdade</th>\n",
       "      <th>strEstado</th>\n",
       "      <th>strProfissao</th>\n",
       "      <th>dtNascimento</th>\n",
       "      <th>id</th>\n",
       "      <th>cpf</th>\n",
       "    </tr>\n",
       "  </thead>\n",
       "  <tbody>\n",
       "    <tr>\n",
       "      <td>0</td>\n",
       "      <td>1</td>\n",
       "      <td>Ricardo Silva</td>\n",
       "      <td>41</td>\n",
       "      <td>SP</td>\n",
       "      <td>Tech Lead</td>\n",
       "      <td>2008-12-17 14:37:56.310</td>\n",
       "      <td>1</td>\n",
       "      <td>27664564858</td>\n",
       "    </tr>\n",
       "    <tr>\n",
       "      <td>1</td>\n",
       "      <td>2</td>\n",
       "      <td>Natalia Oliveira</td>\n",
       "      <td>35</td>\n",
       "      <td>SP</td>\n",
       "      <td>Analista de Dados Jr</td>\n",
       "      <td>1981-08-01 14:38:26.467</td>\n",
       "      <td>2</td>\n",
       "      <td>35664564858</td>\n",
       "    </tr>\n",
       "    <tr>\n",
       "      <td>2</td>\n",
       "      <td>3</td>\n",
       "      <td>Carlos Oliveira</td>\n",
       "      <td>39</td>\n",
       "      <td>SP</td>\n",
       "      <td>Corretor de Seguros</td>\n",
       "      <td>1995-04-10 14:38:46.750</td>\n",
       "      <td>3</td>\n",
       "      <td>13464564858</td>\n",
       "    </tr>\n",
       "    <tr>\n",
       "      <td>3</td>\n",
       "      <td>4</td>\n",
       "      <td>Alexandre</td>\n",
       "      <td>29</td>\n",
       "      <td>MG</td>\n",
       "      <td>Engenheiro de Dados Pleno</td>\n",
       "      <td>2008-12-17 14:39:00.180</td>\n",
       "      <td>4</td>\n",
       "      <td>668664858</td>\n",
       "    </tr>\n",
       "  </tbody>\n",
       "</table>\n",
       "</div>"
      ],
      "text/plain": [
       "   Id           strNome  strIdade strEstado               strProfissao  \\\n",
       "0   1     Ricardo Silva        41        SP                  Tech Lead   \n",
       "1   2  Natalia Oliveira        35        SP       Analista de Dados Jr   \n",
       "2   3   Carlos Oliveira        39        SP        Corretor de Seguros   \n",
       "3   4         Alexandre        29        MG  Engenheiro de Dados Pleno   \n",
       "\n",
       "             dtNascimento  id          cpf  \n",
       "0 2008-12-17 14:37:56.310   1  27664564858  \n",
       "1 1981-08-01 14:38:26.467   2  35664564858  \n",
       "2 1995-04-10 14:38:46.750   3  13464564858  \n",
       "3 2008-12-17 14:39:00.180   4  668664858    "
      ]
     },
     "metadata": {},
     "output_type": "display_data"
    }
   ],
   "source": [
    "display(result)"
   ]
  },
  {
   "cell_type": "code",
   "execution_count": 18,
   "metadata": {},
   "outputs": [
    {
     "name": "stdout",
     "output_type": "stream",
     "text": [
      "   id          cpf\n",
      "0   1  27664564858\n",
      "1   2  35664564858\n",
      "2   3  13464564858\n",
      "3   4  668664858  \n"
     ]
    }
   ],
   "source": [
    "print(df_documentos)"
   ]
  },
  {
   "cell_type": "code",
   "execution_count": 52,
   "metadata": {},
   "outputs": [],
   "source": [
    "def greet(name):\n",
    "    print(\"Olá, \" + name + \". Bom Dia!\")"
   ]
  },
  {
   "cell_type": "code",
   "execution_count": 53,
   "metadata": {},
   "outputs": [
    {
     "name": "stdout",
     "output_type": "stream",
     "text": [
      "Olá, Ricardo. Bom Dia!\n"
     ]
    }
   ],
   "source": [
    "greet('Ricardo')"
   ]
  },
  {
   "cell_type": "code",
   "execution_count": 54,
   "metadata": {},
   "outputs": [
    {
     "name": "stdout",
     "output_type": "stream",
     "text": [
      "Olá, May. Bom Dia!\n",
      "None\n"
     ]
    }
   ],
   "source": [
    "print(greet(\"May\"))"
   ]
  },
  {
   "cell_type": "code",
   "execution_count": 55,
   "metadata": {},
   "outputs": [],
   "source": [
    "def absolute_value(num):\n",
    "    if num >= 0:\n",
    "        return num\n",
    "    else:\n",
    "        return -num"
   ]
  },
  {
   "cell_type": "code",
   "execution_count": 57,
   "metadata": {},
   "outputs": [
    {
     "name": "stdout",
     "output_type": "stream",
     "text": [
      "423\n"
     ]
    }
   ],
   "source": [
    "print(absolute_value(-423))"
   ]
  },
  {
   "cell_type": "code",
   "execution_count": 69,
   "metadata": {},
   "outputs": [],
   "source": [
    "cpf = '276.686.648-58'"
   ]
  },
  {
   "cell_type": "code",
   "execution_count": 70,
   "metadata": {},
   "outputs": [],
   "source": [
    "replacedString = cpf.replace('-', '').replace('.','')"
   ]
  },
  {
   "cell_type": "code",
   "execution_count": 75,
   "metadata": {},
   "outputs": [
    {
     "data": {
      "text/plain": [
       "11"
      ]
     },
     "execution_count": 75,
     "metadata": {},
     "output_type": "execute_result"
    }
   ],
   "source": [
    "len(replacedString)"
   ]
  },
  {
   "cell_type": "code",
   "execution_count": 85,
   "metadata": {},
   "outputs": [],
   "source": [
    "def checar_cpf(cpf):\n",
    "    if len(cpf) <= 11:\n",
    "        return 'cpf correto'\n",
    "    else:\n",
    "        return 'cpf incorreto'"
   ]
  },
  {
   "cell_type": "code",
   "execution_count": 86,
   "metadata": {},
   "outputs": [
    {
     "name": "stdout",
     "output_type": "stream",
     "text": [
      "cpf correto\n"
     ]
    }
   ],
   "source": [
    "print(checar_cpf('7668664858'))"
   ]
  },
  {
   "cell_type": "code",
   "execution_count": 88,
   "metadata": {},
   "outputs": [
    {
     "data": {
      "text/html": [
       "<div>\n",
       "<style scoped>\n",
       "    .dataframe tbody tr th:only-of-type {\n",
       "        vertical-align: middle;\n",
       "    }\n",
       "\n",
       "    .dataframe tbody tr th {\n",
       "        vertical-align: top;\n",
       "    }\n",
       "\n",
       "    .dataframe thead th {\n",
       "        text-align: right;\n",
       "    }\n",
       "</style>\n",
       "<table border=\"1\" class=\"dataframe\">\n",
       "  <thead>\n",
       "    <tr style=\"text-align: right;\">\n",
       "      <th></th>\n",
       "      <th>Id</th>\n",
       "      <th>strNome</th>\n",
       "      <th>strIdade</th>\n",
       "      <th>strEstado</th>\n",
       "      <th>strProfissao</th>\n",
       "    </tr>\n",
       "  </thead>\n",
       "  <tbody>\n",
       "    <tr>\n",
       "      <td>0</td>\n",
       "      <td>1</td>\n",
       "      <td>Ricardo Silva</td>\n",
       "      <td>41</td>\n",
       "      <td>SP</td>\n",
       "      <td>Tech Lead</td>\n",
       "    </tr>\n",
       "    <tr>\n",
       "      <td>1</td>\n",
       "      <td>2</td>\n",
       "      <td>Natalia Oliveira</td>\n",
       "      <td>35</td>\n",
       "      <td>SP</td>\n",
       "      <td>Analista de Dados Jr</td>\n",
       "    </tr>\n",
       "    <tr>\n",
       "      <td>2</td>\n",
       "      <td>3</td>\n",
       "      <td>Carlos Oliveira</td>\n",
       "      <td>39</td>\n",
       "      <td>SP</td>\n",
       "      <td>Corretor de Seguros</td>\n",
       "    </tr>\n",
       "    <tr>\n",
       "      <td>3</td>\n",
       "      <td>4</td>\n",
       "      <td>Alexandre</td>\n",
       "      <td>29</td>\n",
       "      <td>MG</td>\n",
       "      <td>Engenheiro de Dados Pleno</td>\n",
       "    </tr>\n",
       "    <tr>\n",
       "      <td>4</td>\n",
       "      <td>5</td>\n",
       "      <td>Paula</td>\n",
       "      <td>35</td>\n",
       "      <td>MG</td>\n",
       "      <td>Engenheiro de Dados Pleno</td>\n",
       "    </tr>\n",
       "  </tbody>\n",
       "</table>\n",
       "</div>"
      ],
      "text/plain": [
       "   Id           strNome  strIdade strEstado               strProfissao\n",
       "0   1     Ricardo Silva        41        SP                  Tech Lead\n",
       "1   2  Natalia Oliveira        35        SP       Analista de Dados Jr\n",
       "2   3   Carlos Oliveira        39        SP        Corretor de Seguros\n",
       "3   4         Alexandre        29        MG  Engenheiro de Dados Pleno\n",
       "4   5             Paula        35        MG  Engenheiro de Dados Pleno"
      ]
     },
     "execution_count": 88,
     "metadata": {},
     "output_type": "execute_result"
    }
   ],
   "source": [
    "pd.read_csv('C:\\\\Users\\\\ricar\\\\Downloads\\\\Python-Data-Science-and-Machine-Learning-Bootcamp\\\\cadastros.csv'\n",
    "            ,delimiter = ';',header = 0)"
   ]
  },
  {
   "cell_type": "code",
   "execution_count": 89,
   "metadata": {},
   "outputs": [
    {
     "data": {
      "text/html": [
       "<div>\n",
       "<style scoped>\n",
       "    .dataframe tbody tr th:only-of-type {\n",
       "        vertical-align: middle;\n",
       "    }\n",
       "\n",
       "    .dataframe tbody tr th {\n",
       "        vertical-align: top;\n",
       "    }\n",
       "\n",
       "    .dataframe thead th {\n",
       "        text-align: right;\n",
       "    }\n",
       "</style>\n",
       "<table border=\"1\" class=\"dataframe\">\n",
       "  <thead>\n",
       "    <tr style=\"text-align: right;\">\n",
       "      <th></th>\n",
       "      <th>Id</th>\n",
       "      <th>strNome</th>\n",
       "      <th>strIdade</th>\n",
       "      <th>strEstado</th>\n",
       "      <th>strProfissao</th>\n",
       "    </tr>\n",
       "  </thead>\n",
       "  <tbody>\n",
       "    <tr>\n",
       "      <td>0</td>\n",
       "      <td>1</td>\n",
       "      <td>Ricardo Silva</td>\n",
       "      <td>41</td>\n",
       "      <td>SP</td>\n",
       "      <td>Tech Lead</td>\n",
       "    </tr>\n",
       "  </tbody>\n",
       "</table>\n",
       "</div>"
      ],
      "text/plain": [
       "   Id        strNome  strIdade strEstado strProfissao\n",
       "0   1  Ricardo Silva        41        SP    Tech Lead"
      ]
     },
     "execution_count": 89,
     "metadata": {},
     "output_type": "execute_result"
    }
   ],
   "source": [
    "pd.read_csv('C:\\\\Users\\\\ricar\\\\Downloads\\\\Python-Data-Science-and-Machine-Learning-Bootcamp\\\\cadastros.csv'\n",
    "            ,delimiter = ';',header = 0).query('strProfissao == \"Tech Lead\"')"
   ]
  },
  {
   "cell_type": "code",
   "execution_count": 90,
   "metadata": {},
   "outputs": [],
   "source": [
    "csv_usuarios = pd.read_csv('C:\\\\Users\\\\ricar\\\\Downloads\\\\Python-Data-Science-and-Machine-Learning-Bootcamp\\\\cadastros.csv'\n",
    "            ,delimiter = ';',header = 0)"
   ]
  },
  {
   "cell_type": "code",
   "execution_count": 91,
   "metadata": {},
   "outputs": [
    {
     "name": "stdout",
     "output_type": "stream",
     "text": [
      "   Id           strNome  strIdade strEstado               strProfissao\n",
      "0   1     Ricardo Silva        41        SP                  Tech Lead\n",
      "1   2  Natalia Oliveira        35        SP       Analista de Dados Jr\n",
      "2   3   Carlos Oliveira        39        SP        Corretor de Seguros\n",
      "3   4         Alexandre        29        MG  Engenheiro de Dados Pleno\n",
      "4   5             Paula        35        MG  Engenheiro de Dados Pleno\n"
     ]
    }
   ],
   "source": [
    "print(csv_usuarios)"
   ]
  },
  {
   "cell_type": "code",
   "execution_count": 92,
   "metadata": {},
   "outputs": [
    {
     "data": {
      "text/html": [
       "<div>\n",
       "<style scoped>\n",
       "    .dataframe tbody tr th:only-of-type {\n",
       "        vertical-align: middle;\n",
       "    }\n",
       "\n",
       "    .dataframe tbody tr th {\n",
       "        vertical-align: top;\n",
       "    }\n",
       "\n",
       "    .dataframe thead th {\n",
       "        text-align: right;\n",
       "    }\n",
       "</style>\n",
       "<table border=\"1\" class=\"dataframe\">\n",
       "  <thead>\n",
       "    <tr style=\"text-align: right;\">\n",
       "      <th></th>\n",
       "      <th>Id</th>\n",
       "      <th>strNome</th>\n",
       "      <th>strIdade</th>\n",
       "      <th>strEstado</th>\n",
       "      <th>strProfissao</th>\n",
       "    </tr>\n",
       "  </thead>\n",
       "  <tbody>\n",
       "    <tr>\n",
       "      <td>0</td>\n",
       "      <td>1</td>\n",
       "      <td>Ricardo Silva</td>\n",
       "      <td>41</td>\n",
       "      <td>SP</td>\n",
       "      <td>Tech Lead</td>\n",
       "    </tr>\n",
       "    <tr>\n",
       "      <td>1</td>\n",
       "      <td>2</td>\n",
       "      <td>Natalia Oliveira</td>\n",
       "      <td>35</td>\n",
       "      <td>SP</td>\n",
       "      <td>Analista de Dados Jr</td>\n",
       "    </tr>\n",
       "    <tr>\n",
       "      <td>2</td>\n",
       "      <td>3</td>\n",
       "      <td>Carlos Oliveira</td>\n",
       "      <td>39</td>\n",
       "      <td>SP</td>\n",
       "      <td>Corretor de Seguros</td>\n",
       "    </tr>\n",
       "    <tr>\n",
       "      <td>3</td>\n",
       "      <td>4</td>\n",
       "      <td>Alexandre</td>\n",
       "      <td>29</td>\n",
       "      <td>MG</td>\n",
       "      <td>Engenheiro de Dados Pleno</td>\n",
       "    </tr>\n",
       "    <tr>\n",
       "      <td>4</td>\n",
       "      <td>5</td>\n",
       "      <td>Paula</td>\n",
       "      <td>35</td>\n",
       "      <td>MG</td>\n",
       "      <td>Engenheiro de Dados Pleno</td>\n",
       "    </tr>\n",
       "  </tbody>\n",
       "</table>\n",
       "</div>"
      ],
      "text/plain": [
       "   Id           strNome  strIdade strEstado               strProfissao\n",
       "0   1     Ricardo Silva        41        SP                  Tech Lead\n",
       "1   2  Natalia Oliveira        35        SP       Analista de Dados Jr\n",
       "2   3   Carlos Oliveira        39        SP        Corretor de Seguros\n",
       "3   4         Alexandre        29        MG  Engenheiro de Dados Pleno\n",
       "4   5             Paula        35        MG  Engenheiro de Dados Pleno"
      ]
     },
     "metadata": {},
     "output_type": "display_data"
    }
   ],
   "source": [
    "display(csv_usuarios)"
   ]
  },
  {
   "cell_type": "code",
   "execution_count": 16,
   "metadata": {},
   "outputs": [
    {
     "data": {
      "text/html": [
       "<div>\n",
       "<style scoped>\n",
       "    .dataframe tbody tr th:only-of-type {\n",
       "        vertical-align: middle;\n",
       "    }\n",
       "\n",
       "    .dataframe tbody tr th {\n",
       "        vertical-align: top;\n",
       "    }\n",
       "\n",
       "    .dataframe thead th {\n",
       "        text-align: right;\n",
       "    }\n",
       "</style>\n",
       "<table border=\"1\" class=\"dataframe\">\n",
       "  <thead>\n",
       "    <tr style=\"text-align: right;\">\n",
       "      <th></th>\n",
       "      <th>Id</th>\n",
       "      <th>strNome</th>\n",
       "      <th>strIdade</th>\n",
       "      <th>strEstado</th>\n",
       "      <th>strProfissao</th>\n",
       "    </tr>\n",
       "  </thead>\n",
       "  <tbody>\n",
       "    <tr>\n",
       "      <td>0</td>\n",
       "      <td>1</td>\n",
       "      <td>Ricardo Silva</td>\n",
       "      <td>41</td>\n",
       "      <td>SP</td>\n",
       "      <td>Tech Lead</td>\n",
       "    </tr>\n",
       "    <tr>\n",
       "      <td>1</td>\n",
       "      <td>2</td>\n",
       "      <td>Natalia Oliveira</td>\n",
       "      <td>35</td>\n",
       "      <td>SP</td>\n",
       "      <td>Analista de Dados Jr</td>\n",
       "    </tr>\n",
       "    <tr>\n",
       "      <td>2</td>\n",
       "      <td>3</td>\n",
       "      <td>Carlos Oliveira</td>\n",
       "      <td>39</td>\n",
       "      <td>SP</td>\n",
       "      <td>Corretor de Seguros</td>\n",
       "    </tr>\n",
       "    <tr>\n",
       "      <td>3</td>\n",
       "      <td>4</td>\n",
       "      <td>Alexandre</td>\n",
       "      <td>29</td>\n",
       "      <td>MG</td>\n",
       "      <td>Engenheiro de Dados Pleno</td>\n",
       "    </tr>\n",
       "    <tr>\n",
       "      <td>4</td>\n",
       "      <td>5</td>\n",
       "      <td>Paula</td>\n",
       "      <td>35</td>\n",
       "      <td>MG</td>\n",
       "      <td>Engenheiro de Dados Pleno</td>\n",
       "    </tr>\n",
       "  </tbody>\n",
       "</table>\n",
       "</div>"
      ],
      "text/plain": [
       "   Id           strNome  strIdade strEstado               strProfissao\n",
       "0   1     Ricardo Silva        41        SP                  Tech Lead\n",
       "1   2  Natalia Oliveira        35        SP       Analista de Dados Jr\n",
       "2   3   Carlos Oliveira        39        SP        Corretor de Seguros\n",
       "3   4         Alexandre        29        MG  Engenheiro de Dados Pleno\n",
       "4   5             Paula        35        MG  Engenheiro de Dados Pleno"
      ]
     },
     "execution_count": 16,
     "metadata": {},
     "output_type": "execute_result"
    }
   ],
   "source": [
    "pd.read_json('C:\\\\Users\\\\ricar\\\\Downloads\\\\Python-Data-Science-and-Machine-Learning-Bootcamp\\\\cadastros.json')"
   ]
  },
  {
   "cell_type": "code",
   "execution_count": 20,
   "metadata": {},
   "outputs": [
    {
     "ename": "NameError",
     "evalue": "name 'csv_usuarios' is not defined",
     "output_type": "error",
     "traceback": [
      "\u001b[1;31m---------------------------------------------------------------------------\u001b[0m",
      "\u001b[1;31mNameError\u001b[0m                                 Traceback (most recent call last)",
      "\u001b[1;32m<ipython-input-20-5b2d54e0bb87>\u001b[0m in \u001b[0;36m<module>\u001b[1;34m\u001b[0m\n\u001b[1;32m----> 1\u001b[1;33m \u001b[0mcsv_usuarios\u001b[0m\u001b[1;33m.\u001b[0m\u001b[0mto_csv\u001b[0m\u001b[1;33m(\u001b[0m\u001b[1;34m'C:\\\\Users\\\\ricar\\\\Downloads\\\\Python-Data-Science-and-Machine-Learning-Bootcamp\\\\cadastros_salvo.csv'\u001b[0m\u001b[1;33m)\u001b[0m\u001b[1;33m\u001b[0m\u001b[1;33m\u001b[0m\u001b[0m\n\u001b[0m",
      "\u001b[1;31mNameError\u001b[0m: name 'csv_usuarios' is not defined"
     ]
    }
   ],
   "source": [
    "csv_usuarios.to_csv('C:\\\\Users\\\\ricar\\\\Downloads\\\\Python-Data-Science-and-Machine-Learning-Bootcamp\\\\cadastros_salvo.csv')"
   ]
  },
  {
   "cell_type": "code",
   "execution_count": 19,
   "metadata": {},
   "outputs": [
    {
     "ename": "AttributeError",
     "evalue": "module 'pandas' has no attribute 'read_xml'",
     "output_type": "error",
     "traceback": [
      "\u001b[1;31m---------------------------------------------------------------------------\u001b[0m",
      "\u001b[1;31mAttributeError\u001b[0m                            Traceback (most recent call last)",
      "\u001b[1;32m<ipython-input-19-672b69e79658>\u001b[0m in \u001b[0;36m<module>\u001b[1;34m\u001b[0m\n\u001b[1;32m----> 1\u001b[1;33m \u001b[0mpd\u001b[0m\u001b[1;33m.\u001b[0m\u001b[0mread_xml\u001b[0m\u001b[1;33m(\u001b[0m\u001b[1;34m\"evtExclusaoeFinanceira.xml\"\u001b[0m\u001b[1;33m)\u001b[0m\u001b[1;33m\u001b[0m\u001b[1;33m\u001b[0m\u001b[0m\n\u001b[0m",
      "\u001b[1;32m~\\Anaconda3\\lib\\site-packages\\pandas\\__init__.py\u001b[0m in \u001b[0;36m__getattr__\u001b[1;34m(name)\u001b[0m\n\u001b[0;32m    212\u001b[0m \u001b[1;33m\u001b[0m\u001b[0m\n\u001b[0;32m    213\u001b[0m             \u001b[1;32mreturn\u001b[0m \u001b[0mPanel\u001b[0m\u001b[1;33m\u001b[0m\u001b[1;33m\u001b[0m\u001b[0m\n\u001b[1;32m--> 214\u001b[1;33m         \u001b[1;32mraise\u001b[0m \u001b[0mAttributeError\u001b[0m\u001b[1;33m(\u001b[0m\u001b[1;34m\"module 'pandas' has no attribute '{}'\"\u001b[0m\u001b[1;33m.\u001b[0m\u001b[0mformat\u001b[0m\u001b[1;33m(\u001b[0m\u001b[0mname\u001b[0m\u001b[1;33m)\u001b[0m\u001b[1;33m)\u001b[0m\u001b[1;33m\u001b[0m\u001b[1;33m\u001b[0m\u001b[0m\n\u001b[0m\u001b[0;32m    215\u001b[0m \u001b[1;33m\u001b[0m\u001b[0m\n\u001b[0;32m    216\u001b[0m \u001b[1;33m\u001b[0m\u001b[0m\n",
      "\u001b[1;31mAttributeError\u001b[0m: module 'pandas' has no attribute 'read_xml'"
     ]
    }
   ],
   "source": [
    "pd.read_xml(\"evtExclusaoeFinanceira.xml\")"
   ]
  },
  {
   "cell_type": "code",
   "execution_count": 8,
   "metadata": {},
   "outputs": [
    {
     "data": {
      "text/html": [
       "<div>\n",
       "<style scoped>\n",
       "    .dataframe tbody tr th:only-of-type {\n",
       "        vertical-align: middle;\n",
       "    }\n",
       "\n",
       "    .dataframe tbody tr th {\n",
       "        vertical-align: top;\n",
       "    }\n",
       "\n",
       "    .dataframe thead th {\n",
       "        text-align: right;\n",
       "    }\n",
       "</style>\n",
       "<table border=\"1\" class=\"dataframe\">\n",
       "  <thead>\n",
       "    <tr style=\"text-align: right;\">\n",
       "      <th></th>\n",
       "      <th>Id</th>\n",
       "      <th>strNome</th>\n",
       "      <th>strIdade</th>\n",
       "      <th>strEstado</th>\n",
       "      <th>strProfissao</th>\n",
       "      <th>dtNascimento</th>\n",
       "    </tr>\n",
       "  </thead>\n",
       "  <tbody>\n",
       "    <tr>\n",
       "      <td>0</td>\n",
       "      <td>1</td>\n",
       "      <td>Ricardo Silva</td>\n",
       "      <td>41</td>\n",
       "      <td>SP</td>\n",
       "      <td>Tech Lead</td>\n",
       "      <td>2008-12-17 14:37:56.310</td>\n",
       "    </tr>\n",
       "    <tr>\n",
       "      <td>1</td>\n",
       "      <td>2</td>\n",
       "      <td>Natalia Oliveira</td>\n",
       "      <td>35</td>\n",
       "      <td>SP</td>\n",
       "      <td>Analista de Dados Jr</td>\n",
       "      <td>1981-08-01 14:38:26.467</td>\n",
       "    </tr>\n",
       "    <tr>\n",
       "      <td>2</td>\n",
       "      <td>3</td>\n",
       "      <td>Carlos Oliveira</td>\n",
       "      <td>39</td>\n",
       "      <td>SP</td>\n",
       "      <td>Corretor de Seguros</td>\n",
       "      <td>1995-04-10 14:38:46.750</td>\n",
       "    </tr>\n",
       "    <tr>\n",
       "      <td>3</td>\n",
       "      <td>4</td>\n",
       "      <td>Alexandre</td>\n",
       "      <td>29</td>\n",
       "      <td>MG</td>\n",
       "      <td>Engenheiro de Dados Pleno</td>\n",
       "      <td>2008-12-17 14:39:00.180</td>\n",
       "    </tr>\n",
       "    <tr>\n",
       "      <td>4</td>\n",
       "      <td>5</td>\n",
       "      <td>Paula</td>\n",
       "      <td>35</td>\n",
       "      <td>MG</td>\n",
       "      <td>Engenheiro de Dados Pleno</td>\n",
       "      <td>2014-06-09 14:37:12.983</td>\n",
       "    </tr>\n",
       "  </tbody>\n",
       "</table>\n",
       "</div>"
      ],
      "text/plain": [
       "   Id           strNome  strIdade strEstado               strProfissao  \\\n",
       "0   1     Ricardo Silva        41        SP                  Tech Lead   \n",
       "1   2  Natalia Oliveira        35        SP       Analista de Dados Jr   \n",
       "2   3   Carlos Oliveira        39        SP        Corretor de Seguros   \n",
       "3   4         Alexandre        29        MG  Engenheiro de Dados Pleno   \n",
       "4   5             Paula        35        MG  Engenheiro de Dados Pleno   \n",
       "\n",
       "             dtNascimento  \n",
       "0 2008-12-17 14:37:56.310  \n",
       "1 1981-08-01 14:38:26.467  \n",
       "2 1995-04-10 14:38:46.750  \n",
       "3 2008-12-17 14:39:00.180  \n",
       "4 2014-06-09 14:37:12.983  "
      ]
     },
     "execution_count": 8,
     "metadata": {},
     "output_type": "execute_result"
    }
   ],
   "source": [
    "pd.DataFrame(df_cadastro)"
   ]
  },
  {
   "cell_type": "code",
   "execution_count": 12,
   "metadata": {},
   "outputs": [
    {
     "data": {
      "text/html": [
       "<div>\n",
       "<style scoped>\n",
       "    .dataframe tbody tr th:only-of-type {\n",
       "        vertical-align: middle;\n",
       "    }\n",
       "\n",
       "    .dataframe tbody tr th {\n",
       "        vertical-align: top;\n",
       "    }\n",
       "\n",
       "    .dataframe thead th {\n",
       "        text-align: right;\n",
       "    }\n",
       "</style>\n",
       "<table border=\"1\" class=\"dataframe\">\n",
       "  <thead>\n",
       "    <tr style=\"text-align: right;\">\n",
       "      <th></th>\n",
       "      <th>id</th>\n",
       "      <th>cpf</th>\n",
       "    </tr>\n",
       "  </thead>\n",
       "  <tbody>\n",
       "    <tr>\n",
       "      <td>0</td>\n",
       "      <td>1</td>\n",
       "      <td>27664564858</td>\n",
       "    </tr>\n",
       "    <tr>\n",
       "      <td>1</td>\n",
       "      <td>2</td>\n",
       "      <td>35664564858</td>\n",
       "    </tr>\n",
       "    <tr>\n",
       "      <td>2</td>\n",
       "      <td>3</td>\n",
       "      <td>13464564858</td>\n",
       "    </tr>\n",
       "    <tr>\n",
       "      <td>3</td>\n",
       "      <td>4</td>\n",
       "      <td>668664858</td>\n",
       "    </tr>\n",
       "  </tbody>\n",
       "</table>\n",
       "</div>"
      ],
      "text/plain": [
       "   id          cpf\n",
       "0   1  27664564858\n",
       "1   2  35664564858\n",
       "2   3  13464564858\n",
       "3   4  668664858  "
      ]
     },
     "execution_count": 12,
     "metadata": {},
     "output_type": "execute_result"
    }
   ],
   "source": [
    "pd.DataFrame(df_documentos)"
   ]
  },
  {
   "cell_type": "code",
   "execution_count": 37,
   "metadata": {},
   "outputs": [],
   "source": [
    "df = pd.DataFrame(df_cadastro)"
   ]
  },
  {
   "cell_type": "code",
   "execution_count": 38,
   "metadata": {},
   "outputs": [],
   "source": [
    "df2 = pd.DataFrame(df_documentos)"
   ]
  },
  {
   "cell_type": "code",
   "execution_count": 25,
   "metadata": {},
   "outputs": [],
   "source": [
    "result = pd.concat([df, df2], axis=1, join=\"inner\")"
   ]
  },
  {
   "cell_type": "code",
   "execution_count": 23,
   "metadata": {},
   "outputs": [
    {
     "data": {
      "text/html": [
       "<div>\n",
       "<style scoped>\n",
       "    .dataframe tbody tr th:only-of-type {\n",
       "        vertical-align: middle;\n",
       "    }\n",
       "\n",
       "    .dataframe tbody tr th {\n",
       "        vertical-align: top;\n",
       "    }\n",
       "\n",
       "    .dataframe thead th {\n",
       "        text-align: right;\n",
       "    }\n",
       "</style>\n",
       "<table border=\"1\" class=\"dataframe\">\n",
       "  <thead>\n",
       "    <tr style=\"text-align: right;\">\n",
       "      <th></th>\n",
       "      <th>Id</th>\n",
       "      <th>strNome</th>\n",
       "      <th>strIdade</th>\n",
       "      <th>strEstado</th>\n",
       "      <th>strProfissao</th>\n",
       "      <th>dtNascimento</th>\n",
       "      <th>id</th>\n",
       "      <th>cpf</th>\n",
       "    </tr>\n",
       "  </thead>\n",
       "  <tbody>\n",
       "    <tr>\n",
       "      <td>0</td>\n",
       "      <td>1</td>\n",
       "      <td>Ricardo Silva</td>\n",
       "      <td>41</td>\n",
       "      <td>SP</td>\n",
       "      <td>Tech Lead</td>\n",
       "      <td>2008-12-17 14:37:56.310</td>\n",
       "      <td>1</td>\n",
       "      <td>27664564858</td>\n",
       "    </tr>\n",
       "    <tr>\n",
       "      <td>1</td>\n",
       "      <td>2</td>\n",
       "      <td>Natalia Oliveira</td>\n",
       "      <td>35</td>\n",
       "      <td>SP</td>\n",
       "      <td>Analista de Dados Jr</td>\n",
       "      <td>1981-08-01 14:38:26.467</td>\n",
       "      <td>2</td>\n",
       "      <td>35664564858</td>\n",
       "    </tr>\n",
       "    <tr>\n",
       "      <td>2</td>\n",
       "      <td>3</td>\n",
       "      <td>Carlos Oliveira</td>\n",
       "      <td>39</td>\n",
       "      <td>SP</td>\n",
       "      <td>Corretor de Seguros</td>\n",
       "      <td>1995-04-10 14:38:46.750</td>\n",
       "      <td>3</td>\n",
       "      <td>13464564858</td>\n",
       "    </tr>\n",
       "    <tr>\n",
       "      <td>3</td>\n",
       "      <td>4</td>\n",
       "      <td>Alexandre</td>\n",
       "      <td>29</td>\n",
       "      <td>MG</td>\n",
       "      <td>Engenheiro de Dados Pleno</td>\n",
       "      <td>2008-12-17 14:39:00.180</td>\n",
       "      <td>4</td>\n",
       "      <td>668664858</td>\n",
       "    </tr>\n",
       "  </tbody>\n",
       "</table>\n",
       "</div>"
      ],
      "text/plain": [
       "   Id           strNome  strIdade strEstado               strProfissao  \\\n",
       "0   1     Ricardo Silva        41        SP                  Tech Lead   \n",
       "1   2  Natalia Oliveira        35        SP       Analista de Dados Jr   \n",
       "2   3   Carlos Oliveira        39        SP        Corretor de Seguros   \n",
       "3   4         Alexandre        29        MG  Engenheiro de Dados Pleno   \n",
       "\n",
       "             dtNascimento  id          cpf  \n",
       "0 2008-12-17 14:37:56.310   1  27664564858  \n",
       "1 1981-08-01 14:38:26.467   2  35664564858  \n",
       "2 1995-04-10 14:38:46.750   3  13464564858  \n",
       "3 2008-12-17 14:39:00.180   4  668664858    "
      ]
     },
     "metadata": {},
     "output_type": "display_data"
    }
   ],
   "source": [
    "display(result)"
   ]
  },
  {
   "cell_type": "code",
   "execution_count": 29,
   "metadata": {},
   "outputs": [],
   "source": [
    "sql = (\"SELECT TABLE_SCHEMA + '.' + TABLE_NAME FROM information_schema. tables\") \n",
    "result_sql = pd.read_sql(sql,cursor)\n",
    "    "
   ]
  },
  {
   "cell_type": "code",
   "execution_count": 30,
   "metadata": {},
   "outputs": [
    {
     "data": {
      "text/html": [
       "<div>\n",
       "<style scoped>\n",
       "    .dataframe tbody tr th:only-of-type {\n",
       "        vertical-align: middle;\n",
       "    }\n",
       "\n",
       "    .dataframe tbody tr th {\n",
       "        vertical-align: top;\n",
       "    }\n",
       "\n",
       "    .dataframe thead th {\n",
       "        text-align: right;\n",
       "    }\n",
       "</style>\n",
       "<table border=\"1\" class=\"dataframe\">\n",
       "  <thead>\n",
       "    <tr style=\"text-align: right;\">\n",
       "      <th></th>\n",
       "      <th></th>\n",
       "    </tr>\n",
       "  </thead>\n",
       "  <tbody>\n",
       "    <tr>\n",
       "      <td>0</td>\n",
       "      <td>Usuarios.Cadastros</td>\n",
       "    </tr>\n",
       "    <tr>\n",
       "      <td>1</td>\n",
       "      <td>dbo.transacoes</td>\n",
       "    </tr>\n",
       "    <tr>\n",
       "      <td>2</td>\n",
       "      <td>Usuarios.Documentos</td>\n",
       "    </tr>\n",
       "  </tbody>\n",
       "</table>\n",
       "</div>"
      ],
      "text/plain": [
       "                      \n",
       "0   Usuarios.Cadastros\n",
       "1       dbo.transacoes\n",
       "2  Usuarios.Documentos"
      ]
     },
     "metadata": {},
     "output_type": "display_data"
    }
   ],
   "source": [
    "display(result_sql)"
   ]
  },
  {
   "cell_type": "code",
   "execution_count": 1,
   "metadata": {},
   "outputs": [],
   "source": [
    "import pandas as pd"
   ]
  },
  {
   "cell_type": "code",
   "execution_count": 2,
   "metadata": {},
   "outputs": [],
   "source": [
    "lista_a = [20,30,40,50]"
   ]
  },
  {
   "cell_type": "code",
   "execution_count": 3,
   "metadata": {},
   "outputs": [],
   "source": [
    "series_1 = pd.Series(lista_a)"
   ]
  },
  {
   "cell_type": "code",
   "execution_count": 6,
   "metadata": {},
   "outputs": [
    {
     "data": {
      "text/plain": [
       "0    20\n",
       "1    30\n",
       "2    40\n",
       "3    50\n",
       "dtype: int64"
      ]
     },
     "execution_count": 6,
     "metadata": {},
     "output_type": "execute_result"
    }
   ],
   "source": [
    "series_1"
   ]
  },
  {
   "cell_type": "code",
   "execution_count": 8,
   "metadata": {},
   "outputs": [
    {
     "data": {
      "text/plain": [
       "0     20\n",
       "1     50\n",
       "2     90\n",
       "3    140\n",
       "dtype: int64"
      ]
     },
     "execution_count": 8,
     "metadata": {},
     "output_type": "execute_result"
    }
   ],
   "source": [
    "series_1.cumsum()"
   ]
  },
  {
   "cell_type": "code",
   "execution_count": 19,
   "metadata": {},
   "outputs": [],
   "source": [
    "df1 = pd.DataFrame(df_cadastro)\n",
    "df2 = pd.DataFrame(df_documentos)"
   ]
  },
  {
   "cell_type": "code",
   "execution_count": 27,
   "metadata": {},
   "outputs": [],
   "source": [
    "df_join = pd.merge(df1,df2,on='id',how='inner')"
   ]
  },
  {
   "cell_type": "code",
   "execution_count": 28,
   "metadata": {},
   "outputs": [
    {
     "data": {
      "text/html": [
       "<div>\n",
       "<style scoped>\n",
       "    .dataframe tbody tr th:only-of-type {\n",
       "        vertical-align: middle;\n",
       "    }\n",
       "\n",
       "    .dataframe tbody tr th {\n",
       "        vertical-align: top;\n",
       "    }\n",
       "\n",
       "    .dataframe thead th {\n",
       "        text-align: right;\n",
       "    }\n",
       "</style>\n",
       "<table border=\"1\" class=\"dataframe\">\n",
       "  <thead>\n",
       "    <tr style=\"text-align: right;\">\n",
       "      <th></th>\n",
       "      <th>id</th>\n",
       "      <th>strNome</th>\n",
       "      <th>strIdade</th>\n",
       "      <th>strEstado</th>\n",
       "      <th>strProfissao</th>\n",
       "      <th>dtNascimento</th>\n",
       "      <th>cpf</th>\n",
       "    </tr>\n",
       "  </thead>\n",
       "  <tbody>\n",
       "    <tr>\n",
       "      <td>0</td>\n",
       "      <td>1</td>\n",
       "      <td>Ricardo Silva</td>\n",
       "      <td>41</td>\n",
       "      <td>SP</td>\n",
       "      <td>Tech Lead</td>\n",
       "      <td>2008-12-17 14:37:56.310</td>\n",
       "      <td>27664564858</td>\n",
       "    </tr>\n",
       "    <tr>\n",
       "      <td>1</td>\n",
       "      <td>2</td>\n",
       "      <td>Natalia Oliveira</td>\n",
       "      <td>35</td>\n",
       "      <td>SP</td>\n",
       "      <td>Analista de Dados Jr</td>\n",
       "      <td>1981-08-01 14:38:26.467</td>\n",
       "      <td>35664564858</td>\n",
       "    </tr>\n",
       "    <tr>\n",
       "      <td>2</td>\n",
       "      <td>3</td>\n",
       "      <td>Carlos Oliveira</td>\n",
       "      <td>39</td>\n",
       "      <td>SP</td>\n",
       "      <td>Corretor de Seguros</td>\n",
       "      <td>1995-04-10 14:38:46.750</td>\n",
       "      <td>13464564858</td>\n",
       "    </tr>\n",
       "    <tr>\n",
       "      <td>3</td>\n",
       "      <td>4</td>\n",
       "      <td>Alexandre</td>\n",
       "      <td>29</td>\n",
       "      <td>MG</td>\n",
       "      <td>Engenheiro de Dados Pleno</td>\n",
       "      <td>2008-12-17 14:39:00.180</td>\n",
       "      <td>668664858</td>\n",
       "    </tr>\n",
       "  </tbody>\n",
       "</table>\n",
       "</div>"
      ],
      "text/plain": [
       "   id           strNome  strIdade strEstado               strProfissao  \\\n",
       "0   1     Ricardo Silva        41        SP                  Tech Lead   \n",
       "1   2  Natalia Oliveira        35        SP       Analista de Dados Jr   \n",
       "2   3   Carlos Oliveira        39        SP        Corretor de Seguros   \n",
       "3   4         Alexandre        29        MG  Engenheiro de Dados Pleno   \n",
       "\n",
       "             dtNascimento          cpf  \n",
       "0 2008-12-17 14:37:56.310  27664564858  \n",
       "1 1981-08-01 14:38:26.467  35664564858  \n",
       "2 1995-04-10 14:38:46.750  13464564858  \n",
       "3 2008-12-17 14:39:00.180  668664858    "
      ]
     },
     "execution_count": 28,
     "metadata": {},
     "output_type": "execute_result"
    }
   ],
   "source": [
    "df_join.head()"
   ]
  },
  {
   "cell_type": "code",
   "execution_count": 50,
   "metadata": {},
   "outputs": [],
   "source": [
    "nome = dic1['nome']"
   ]
  },
  {
   "cell_type": "code",
   "execution_count": 52,
   "metadata": {},
   "outputs": [],
   "source": [
    "def checar_nome(nome):\n",
    "    if nome == 'Ricardo':\n",
    "        return 'Legal'\n",
    "    else:\n",
    "        return 'lascou'"
   ]
  },
  {
   "cell_type": "code",
   "execution_count": 55,
   "metadata": {},
   "outputs": [
    {
     "data": {
      "text/plain": [
       "'lascou'"
      ]
     },
     "execution_count": 55,
     "metadata": {},
     "output_type": "execute_result"
    }
   ],
   "source": [
    "checar_nome('Natalia')"
   ]
  },
  {
   "cell_type": "code",
   "execution_count": 5,
   "metadata": {},
   "outputs": [
    {
     "ename": "SyntaxError",
     "evalue": "'return' outside function (<ipython-input-5-5402f1afcb99>, line 2)",
     "output_type": "error",
     "traceback": [
      "\u001b[1;36m  File \u001b[1;32m\"<ipython-input-5-5402f1afcb99>\"\u001b[1;36m, line \u001b[1;32m2\u001b[0m\n\u001b[1;33m    return 'Tem'\u001b[0m\n\u001b[1;37m    ^\u001b[0m\n\u001b[1;31mSyntaxError\u001b[0m\u001b[1;31m:\u001b[0m 'return' outside function\n"
     ]
    }
   ],
   "source": [
    "if 'x' in 'Ricardo':\n",
    "    return 'Tem'"
   ]
  },
  {
   "cell_type": "code",
   "execution_count": 32,
   "metadata": {},
   "outputs": [
    {
     "name": "stdout",
     "output_type": "stream",
     "text": [
      "ricardo\n"
     ]
    }
   ],
   "source": [
    "nome = 'Ricardo'\n",
    "print(nome.lower())"
   ]
  },
  {
   "cell_type": "code",
   "execution_count": 29,
   "metadata": {},
   "outputs": [
    {
     "data": {
      "text/html": [
       "<div>\n",
       "<style scoped>\n",
       "    .dataframe tbody tr th:only-of-type {\n",
       "        vertical-align: middle;\n",
       "    }\n",
       "\n",
       "    .dataframe tbody tr th {\n",
       "        vertical-align: top;\n",
       "    }\n",
       "\n",
       "    .dataframe thead th {\n",
       "        text-align: right;\n",
       "    }\n",
       "</style>\n",
       "<table border=\"1\" class=\"dataframe\">\n",
       "  <thead>\n",
       "    <tr style=\"text-align: right;\">\n",
       "      <th></th>\n",
       "      <th>Id</th>\n",
       "      <th>Nome</th>\n",
       "      <th>Cidade</th>\n",
       "    </tr>\n",
       "  </thead>\n",
       "  <tbody>\n",
       "    <tr>\n",
       "      <td>0</td>\n",
       "      <td>1</td>\n",
       "      <td>Carlos</td>\n",
       "      <td>São Paulo</td>\n",
       "    </tr>\n",
       "  </tbody>\n",
       "</table>\n",
       "</div>"
      ],
      "text/plain": [
       "   Id    Nome     Cidade\n",
       "0   1  Carlos  São Paulo"
      ]
     },
     "execution_count": 29,
     "metadata": {},
     "output_type": "execute_result"
    }
   ],
   "source": [
    "df_a = pd.DataFrame([{'Id': 1, 'Nome': 'Carlos'}])\n",
    "df_b = pd.DataFrame([{'Id': 1, 'Cidade': 'São Paulo'}])\n",
    "\n",
    "# Aplicando o join\n",
    "\n",
    "df_join = pd.merge(df_a, df_b, on='Id', how='inner')\n",
    "df_join.head()"
   ]
  },
  {
   "cell_type": "code",
   "execution_count": 30,
   "metadata": {},
   "outputs": [
    {
     "name": "stdout",
     "output_type": "stream",
     "text": [
      "   Id    Nome     Cidade\n",
      "0   1  Carlos  São Paulo\n"
     ]
    }
   ],
   "source": [
    "print(df_join)"
   ]
  },
  {
   "cell_type": "code",
   "execution_count": 6,
   "metadata": {},
   "outputs": [
    {
     "ename": "NameError",
     "evalue": "name 'df_cadastro' is not defined",
     "output_type": "error",
     "traceback": [
      "\u001b[1;31m---------------------------------------------------------------------------\u001b[0m",
      "\u001b[1;31mNameError\u001b[0m                                 Traceback (most recent call last)",
      "\u001b[1;32m<ipython-input-6-b30f0a8ce416>\u001b[0m in \u001b[0;36m<module>\u001b[1;34m\u001b[0m\n\u001b[1;32m----> 1\u001b[1;33m \u001b[0mdf_cadastro\u001b[0m\u001b[1;33m\u001b[0m\u001b[1;33m\u001b[0m\u001b[0m\n\u001b[0m",
      "\u001b[1;31mNameError\u001b[0m: name 'df_cadastro' is not defined"
     ]
    }
   ],
   "source": [
    "df_cadastro"
   ]
  },
  {
   "cell_type": "code",
   "execution_count": 34,
   "metadata": {},
   "outputs": [
    {
     "data": {
      "text/html": [
       "<div>\n",
       "<style scoped>\n",
       "    .dataframe tbody tr th:only-of-type {\n",
       "        vertical-align: middle;\n",
       "    }\n",
       "\n",
       "    .dataframe tbody tr th {\n",
       "        vertical-align: top;\n",
       "    }\n",
       "\n",
       "    .dataframe thead th {\n",
       "        text-align: right;\n",
       "    }\n",
       "</style>\n",
       "<table border=\"1\" class=\"dataframe\">\n",
       "  <thead>\n",
       "    <tr style=\"text-align: right;\">\n",
       "      <th></th>\n",
       "      <th>id</th>\n",
       "      <th>cpf</th>\n",
       "    </tr>\n",
       "  </thead>\n",
       "  <tbody>\n",
       "    <tr>\n",
       "      <td>0</td>\n",
       "      <td>1</td>\n",
       "      <td>27664564858</td>\n",
       "    </tr>\n",
       "    <tr>\n",
       "      <td>1</td>\n",
       "      <td>2</td>\n",
       "      <td>35664564858</td>\n",
       "    </tr>\n",
       "    <tr>\n",
       "      <td>2</td>\n",
       "      <td>3</td>\n",
       "      <td>13464564858</td>\n",
       "    </tr>\n",
       "    <tr>\n",
       "      <td>3</td>\n",
       "      <td>4</td>\n",
       "      <td>668664858</td>\n",
       "    </tr>\n",
       "  </tbody>\n",
       "</table>\n",
       "</div>"
      ],
      "text/plain": [
       "   id          cpf\n",
       "0   1  27664564858\n",
       "1   2  35664564858\n",
       "2   3  13464564858\n",
       "3   4  668664858  "
      ]
     },
     "execution_count": 34,
     "metadata": {},
     "output_type": "execute_result"
    }
   ],
   "source": [
    "df_documentos"
   ]
  },
  {
   "cell_type": "code",
   "execution_count": 35,
   "metadata": {},
   "outputs": [
    {
     "ename": "KeyError",
     "evalue": "'id'",
     "output_type": "error",
     "traceback": [
      "\u001b[1;31m---------------------------------------------------------------------------\u001b[0m",
      "\u001b[1;31mKeyError\u001b[0m                                  Traceback (most recent call last)",
      "\u001b[1;32m<ipython-input-35-6907b0c9eba3>\u001b[0m in \u001b[0;36m<module>\u001b[1;34m\u001b[0m\n\u001b[1;32m----> 1\u001b[1;33m \u001b[0mdf_join\u001b[0m \u001b[1;33m=\u001b[0m \u001b[0mpd\u001b[0m\u001b[1;33m.\u001b[0m\u001b[0mmerge\u001b[0m\u001b[1;33m(\u001b[0m\u001b[0mdf_cadastro\u001b[0m\u001b[1;33m,\u001b[0m \u001b[0mdf_documentos\u001b[0m\u001b[1;33m,\u001b[0m \u001b[0mon\u001b[0m\u001b[1;33m=\u001b[0m\u001b[1;34m'id'\u001b[0m\u001b[1;33m,\u001b[0m \u001b[0mhow\u001b[0m\u001b[1;33m=\u001b[0m\u001b[1;34m'inner'\u001b[0m\u001b[1;33m)\u001b[0m\u001b[1;33m\u001b[0m\u001b[1;33m\u001b[0m\u001b[0m\n\u001b[0m",
      "\u001b[1;32m~\\Anaconda3\\lib\\site-packages\\pandas\\core\\reshape\\merge.py\u001b[0m in \u001b[0;36mmerge\u001b[1;34m(left, right, how, on, left_on, right_on, left_index, right_index, sort, suffixes, copy, indicator, validate)\u001b[0m\n\u001b[0;32m     79\u001b[0m         \u001b[0mcopy\u001b[0m\u001b[1;33m=\u001b[0m\u001b[0mcopy\u001b[0m\u001b[1;33m,\u001b[0m\u001b[1;33m\u001b[0m\u001b[1;33m\u001b[0m\u001b[0m\n\u001b[0;32m     80\u001b[0m         \u001b[0mindicator\u001b[0m\u001b[1;33m=\u001b[0m\u001b[0mindicator\u001b[0m\u001b[1;33m,\u001b[0m\u001b[1;33m\u001b[0m\u001b[1;33m\u001b[0m\u001b[0m\n\u001b[1;32m---> 81\u001b[1;33m         \u001b[0mvalidate\u001b[0m\u001b[1;33m=\u001b[0m\u001b[0mvalidate\u001b[0m\u001b[1;33m,\u001b[0m\u001b[1;33m\u001b[0m\u001b[1;33m\u001b[0m\u001b[0m\n\u001b[0m\u001b[0;32m     82\u001b[0m     )\n\u001b[0;32m     83\u001b[0m     \u001b[1;32mreturn\u001b[0m \u001b[0mop\u001b[0m\u001b[1;33m.\u001b[0m\u001b[0mget_result\u001b[0m\u001b[1;33m(\u001b[0m\u001b[1;33m)\u001b[0m\u001b[1;33m\u001b[0m\u001b[1;33m\u001b[0m\u001b[0m\n",
      "\u001b[1;32m~\\Anaconda3\\lib\\site-packages\\pandas\\core\\reshape\\merge.py\u001b[0m in \u001b[0;36m__init__\u001b[1;34m(self, left, right, how, on, left_on, right_on, axis, left_index, right_index, sort, suffixes, copy, indicator, validate)\u001b[0m\n\u001b[0;32m    624\u001b[0m             \u001b[0mself\u001b[0m\u001b[1;33m.\u001b[0m\u001b[0mright_join_keys\u001b[0m\u001b[1;33m,\u001b[0m\u001b[1;33m\u001b[0m\u001b[1;33m\u001b[0m\u001b[0m\n\u001b[0;32m    625\u001b[0m             \u001b[0mself\u001b[0m\u001b[1;33m.\u001b[0m\u001b[0mjoin_names\u001b[0m\u001b[1;33m,\u001b[0m\u001b[1;33m\u001b[0m\u001b[1;33m\u001b[0m\u001b[0m\n\u001b[1;32m--> 626\u001b[1;33m         ) = self._get_merge_keys()\n\u001b[0m\u001b[0;32m    627\u001b[0m \u001b[1;33m\u001b[0m\u001b[0m\n\u001b[0;32m    628\u001b[0m         \u001b[1;31m# validate the merge keys dtypes. We may need to coerce\u001b[0m\u001b[1;33m\u001b[0m\u001b[1;33m\u001b[0m\u001b[1;33m\u001b[0m\u001b[0m\n",
      "\u001b[1;32m~\\Anaconda3\\lib\\site-packages\\pandas\\core\\reshape\\merge.py\u001b[0m in \u001b[0;36m_get_merge_keys\u001b[1;34m(self)\u001b[0m\n\u001b[0;32m    986\u001b[0m                         \u001b[0mright_keys\u001b[0m\u001b[1;33m.\u001b[0m\u001b[0mappend\u001b[0m\u001b[1;33m(\u001b[0m\u001b[0mrk\u001b[0m\u001b[1;33m)\u001b[0m\u001b[1;33m\u001b[0m\u001b[1;33m\u001b[0m\u001b[0m\n\u001b[0;32m    987\u001b[0m                     \u001b[1;32mif\u001b[0m \u001b[0mlk\u001b[0m \u001b[1;32mis\u001b[0m \u001b[1;32mnot\u001b[0m \u001b[1;32mNone\u001b[0m\u001b[1;33m:\u001b[0m\u001b[1;33m\u001b[0m\u001b[1;33m\u001b[0m\u001b[0m\n\u001b[1;32m--> 988\u001b[1;33m                         \u001b[0mleft_keys\u001b[0m\u001b[1;33m.\u001b[0m\u001b[0mappend\u001b[0m\u001b[1;33m(\u001b[0m\u001b[0mleft\u001b[0m\u001b[1;33m.\u001b[0m\u001b[0m_get_label_or_level_values\u001b[0m\u001b[1;33m(\u001b[0m\u001b[0mlk\u001b[0m\u001b[1;33m)\u001b[0m\u001b[1;33m)\u001b[0m\u001b[1;33m\u001b[0m\u001b[1;33m\u001b[0m\u001b[0m\n\u001b[0m\u001b[0;32m    989\u001b[0m                         \u001b[0mjoin_names\u001b[0m\u001b[1;33m.\u001b[0m\u001b[0mappend\u001b[0m\u001b[1;33m(\u001b[0m\u001b[0mlk\u001b[0m\u001b[1;33m)\u001b[0m\u001b[1;33m\u001b[0m\u001b[1;33m\u001b[0m\u001b[0m\n\u001b[0;32m    990\u001b[0m                     \u001b[1;32melse\u001b[0m\u001b[1;33m:\u001b[0m\u001b[1;33m\u001b[0m\u001b[1;33m\u001b[0m\u001b[0m\n",
      "\u001b[1;32m~\\Anaconda3\\lib\\site-packages\\pandas\\core\\generic.py\u001b[0m in \u001b[0;36m_get_label_or_level_values\u001b[1;34m(self, key, axis)\u001b[0m\n\u001b[0;32m   1772\u001b[0m             \u001b[0mvalues\u001b[0m \u001b[1;33m=\u001b[0m \u001b[0mself\u001b[0m\u001b[1;33m.\u001b[0m\u001b[0maxes\u001b[0m\u001b[1;33m[\u001b[0m\u001b[0maxis\u001b[0m\u001b[1;33m]\u001b[0m\u001b[1;33m.\u001b[0m\u001b[0mget_level_values\u001b[0m\u001b[1;33m(\u001b[0m\u001b[0mkey\u001b[0m\u001b[1;33m)\u001b[0m\u001b[1;33m.\u001b[0m\u001b[0m_values\u001b[0m\u001b[1;33m\u001b[0m\u001b[1;33m\u001b[0m\u001b[0m\n\u001b[0;32m   1773\u001b[0m         \u001b[1;32melse\u001b[0m\u001b[1;33m:\u001b[0m\u001b[1;33m\u001b[0m\u001b[1;33m\u001b[0m\u001b[0m\n\u001b[1;32m-> 1774\u001b[1;33m             \u001b[1;32mraise\u001b[0m \u001b[0mKeyError\u001b[0m\u001b[1;33m(\u001b[0m\u001b[0mkey\u001b[0m\u001b[1;33m)\u001b[0m\u001b[1;33m\u001b[0m\u001b[1;33m\u001b[0m\u001b[0m\n\u001b[0m\u001b[0;32m   1775\u001b[0m \u001b[1;33m\u001b[0m\u001b[0m\n\u001b[0;32m   1776\u001b[0m         \u001b[1;31m# Check for duplicates\u001b[0m\u001b[1;33m\u001b[0m\u001b[1;33m\u001b[0m\u001b[1;33m\u001b[0m\u001b[0m\n",
      "\u001b[1;31mKeyError\u001b[0m: 'id'"
     ]
    }
   ],
   "source": [
    "df_join = pd.merge(df_cadastro, df_documentos, on='id', how='inner')"
   ]
  },
  {
   "cell_type": "code",
   "execution_count": 55,
   "metadata": {},
   "outputs": [],
   "source": [
    "cpf = '7668664858'"
   ]
  },
  {
   "cell_type": "code",
   "execution_count": 46,
   "metadata": {},
   "outputs": [
    {
     "data": {
      "text/plain": [
       "10"
      ]
     },
     "execution_count": 46,
     "metadata": {},
     "output_type": "execute_result"
    }
   ],
   "source": [
    "len(cpf)"
   ]
  },
  {
   "cell_type": "code",
   "execution_count": 53,
   "metadata": {},
   "outputs": [],
   "source": [
    "def validar_cpf(cpf):\n",
    "    if len(cpf) <=11:\n",
    "        return 'valido'\n",
    "    else:\n",
    "        return 'falso'   "
   ]
  },
  {
   "cell_type": "code",
   "execution_count": 56,
   "metadata": {},
   "outputs": [
    {
     "data": {
      "text/plain": [
       "'valido'"
      ]
     },
     "execution_count": 56,
     "metadata": {},
     "output_type": "execute_result"
    }
   ],
   "source": [
    "validar_cpf(cpf)"
   ]
  },
  {
   "cell_type": "code",
   "execution_count": 61,
   "metadata": {},
   "outputs": [],
   "source": [
    "def retornar_conexao_sql():\n",
    "    server = \"LAPTOP-3H7TVLV9\"\n",
    "    database = \"Datalake\"\n",
    "    string_conexao = 'Driver={SQL Server Native Client 11.0};Server='+server+';Database='+database+';Trusted_Connection=yes;'\n",
    "    conexao = pyodbc.connect(string_conexao)\n",
    "    return conexao"
   ]
  },
  {
   "cell_type": "code",
   "execution_count": 62,
   "metadata": {},
   "outputs": [],
   "source": [
    "cursor = retornar_conexao_sql()"
   ]
  },
  {
   "cell_type": "code",
   "execution_count": 63,
   "metadata": {},
   "outputs": [],
   "source": [
    "sql = (\"select * from Usuarios.Cadastros\")"
   ]
  },
  {
   "cell_type": "code",
   "execution_count": 64,
   "metadata": {},
   "outputs": [],
   "source": [
    "df_cadastro = pd.read_sql(sql,cursor)"
   ]
  },
  {
   "cell_type": "code",
   "execution_count": 65,
   "metadata": {},
   "outputs": [
    {
     "data": {
      "text/html": [
       "<div>\n",
       "<style scoped>\n",
       "    .dataframe tbody tr th:only-of-type {\n",
       "        vertical-align: middle;\n",
       "    }\n",
       "\n",
       "    .dataframe tbody tr th {\n",
       "        vertical-align: top;\n",
       "    }\n",
       "\n",
       "    .dataframe thead th {\n",
       "        text-align: right;\n",
       "    }\n",
       "</style>\n",
       "<table border=\"1\" class=\"dataframe\">\n",
       "  <thead>\n",
       "    <tr style=\"text-align: right;\">\n",
       "      <th></th>\n",
       "      <th>Id</th>\n",
       "      <th>strNome</th>\n",
       "      <th>strIdade</th>\n",
       "      <th>strEstado</th>\n",
       "      <th>strProfissao</th>\n",
       "      <th>dtNascimento</th>\n",
       "    </tr>\n",
       "  </thead>\n",
       "  <tbody>\n",
       "    <tr>\n",
       "      <td>0</td>\n",
       "      <td>1</td>\n",
       "      <td>Ricardo Silva</td>\n",
       "      <td>41</td>\n",
       "      <td>SP</td>\n",
       "      <td>Tech Lead</td>\n",
       "      <td>2008-12-17 14:37:56.310</td>\n",
       "    </tr>\n",
       "    <tr>\n",
       "      <td>1</td>\n",
       "      <td>2</td>\n",
       "      <td>Natalia Oliveira</td>\n",
       "      <td>35</td>\n",
       "      <td>SP</td>\n",
       "      <td>Analista de Dados Jr</td>\n",
       "      <td>1981-08-01 14:38:26.467</td>\n",
       "    </tr>\n",
       "    <tr>\n",
       "      <td>2</td>\n",
       "      <td>3</td>\n",
       "      <td>Carlos Oliveira</td>\n",
       "      <td>39</td>\n",
       "      <td>SP</td>\n",
       "      <td>Corretor de Seguros</td>\n",
       "      <td>1995-04-10 14:38:46.750</td>\n",
       "    </tr>\n",
       "    <tr>\n",
       "      <td>3</td>\n",
       "      <td>4</td>\n",
       "      <td>Alexandre</td>\n",
       "      <td>29</td>\n",
       "      <td>MG</td>\n",
       "      <td>Engenheiro de Dados Pleno</td>\n",
       "      <td>2008-12-17 14:39:00.180</td>\n",
       "    </tr>\n",
       "    <tr>\n",
       "      <td>4</td>\n",
       "      <td>5</td>\n",
       "      <td>Paula</td>\n",
       "      <td>35</td>\n",
       "      <td>MG</td>\n",
       "      <td>Engenheiro de Dados Pleno</td>\n",
       "      <td>2014-06-09 14:37:12.983</td>\n",
       "    </tr>\n",
       "  </tbody>\n",
       "</table>\n",
       "</div>"
      ],
      "text/plain": [
       "   Id           strNome  strIdade strEstado               strProfissao  \\\n",
       "0   1     Ricardo Silva        41        SP                  Tech Lead   \n",
       "1   2  Natalia Oliveira        35        SP       Analista de Dados Jr   \n",
       "2   3   Carlos Oliveira        39        SP        Corretor de Seguros   \n",
       "3   4         Alexandre        29        MG  Engenheiro de Dados Pleno   \n",
       "4   5             Paula        35        MG  Engenheiro de Dados Pleno   \n",
       "\n",
       "             dtNascimento  \n",
       "0 2008-12-17 14:37:56.310  \n",
       "1 1981-08-01 14:38:26.467  \n",
       "2 1995-04-10 14:38:46.750  \n",
       "3 2008-12-17 14:39:00.180  \n",
       "4 2014-06-09 14:37:12.983  "
      ]
     },
     "execution_count": 65,
     "metadata": {},
     "output_type": "execute_result"
    }
   ],
   "source": [
    "df_cadastro"
   ]
  },
  {
   "cell_type": "code",
   "execution_count": 86,
   "metadata": {},
   "outputs": [],
   "source": [
    "sql = (\"SELECT TABLE_SCHEMA + '.' + TABLE_NAME AS row FROM information_schema. tables\")"
   ]
  },
  {
   "cell_type": "code",
   "execution_count": 87,
   "metadata": {},
   "outputs": [],
   "source": [
    "result_sql = pd.read_sql(sql,cursor)"
   ]
  },
  {
   "cell_type": "code",
   "execution_count": 88,
   "metadata": {},
   "outputs": [
    {
     "data": {
      "text/html": [
       "<div>\n",
       "<style scoped>\n",
       "    .dataframe tbody tr th:only-of-type {\n",
       "        vertical-align: middle;\n",
       "    }\n",
       "\n",
       "    .dataframe tbody tr th {\n",
       "        vertical-align: top;\n",
       "    }\n",
       "\n",
       "    .dataframe thead th {\n",
       "        text-align: right;\n",
       "    }\n",
       "</style>\n",
       "<table border=\"1\" class=\"dataframe\">\n",
       "  <thead>\n",
       "    <tr style=\"text-align: right;\">\n",
       "      <th></th>\n",
       "      <th>row</th>\n",
       "    </tr>\n",
       "  </thead>\n",
       "  <tbody>\n",
       "    <tr>\n",
       "      <td>0</td>\n",
       "      <td>Usuarios.Cadastros</td>\n",
       "    </tr>\n",
       "    <tr>\n",
       "      <td>1</td>\n",
       "      <td>Usuarios.Documentos</td>\n",
       "    </tr>\n",
       "  </tbody>\n",
       "</table>\n",
       "</div>"
      ],
      "text/plain": [
       "                   row\n",
       "0   Usuarios.Cadastros\n",
       "1  Usuarios.Documentos"
      ]
     },
     "execution_count": 88,
     "metadata": {},
     "output_type": "execute_result"
    }
   ],
   "source": [
    "result_sql"
   ]
  },
  {
   "cell_type": "code",
   "execution_count": 49,
   "metadata": {},
   "outputs": [],
   "source": [
    "lista = [1,2,3,4,5,6]"
   ]
  },
  {
   "cell_type": "code",
   "execution_count": 50,
   "metadata": {},
   "outputs": [
    {
     "data": {
      "text/plain": [
       "[1, 2, 3, 4, 5, 6]"
      ]
     },
     "execution_count": 50,
     "metadata": {},
     "output_type": "execute_result"
    }
   ],
   "source": [
    "lista"
   ]
  },
  {
   "cell_type": "code",
   "execution_count": 57,
   "metadata": {},
   "outputs": [],
   "source": [
    "dic = {'pucrs': 'pucrs.csv', 'Fia': 'fia.csv'}"
   ]
  },
  {
   "cell_type": "code",
   "execution_count": 72,
   "metadata": {},
   "outputs": [],
   "source": [
    "valor = '276.686.648-58'"
   ]
  },
  {
   "cell_type": "code",
   "execution_count": 74,
   "metadata": {},
   "outputs": [],
   "source": [
    "valor = valor.replace('.','').replace('-','')"
   ]
  },
  {
   "cell_type": "code",
   "execution_count": 75,
   "metadata": {},
   "outputs": [
    {
     "data": {
      "text/plain": [
       "'27668664858'"
      ]
     },
     "metadata": {},
     "output_type": "display_data"
    }
   ],
   "source": [
    "display(valor)"
   ]
  },
  {
   "cell_type": "code",
   "execution_count": 62,
   "metadata": {},
   "outputs": [
    {
     "data": {
      "text/html": [
       "<div>\n",
       "<style scoped>\n",
       "    .dataframe tbody tr th:only-of-type {\n",
       "        vertical-align: middle;\n",
       "    }\n",
       "\n",
       "    .dataframe tbody tr th {\n",
       "        vertical-align: top;\n",
       "    }\n",
       "\n",
       "    .dataframe thead th {\n",
       "        text-align: right;\n",
       "    }\n",
       "</style>\n",
       "<table border=\"1\" class=\"dataframe\">\n",
       "  <thead>\n",
       "    <tr style=\"text-align: right;\">\n",
       "      <th></th>\n",
       "      <th>id</th>\n",
       "      <th>cpf</th>\n",
       "    </tr>\n",
       "  </thead>\n",
       "  <tbody>\n",
       "    <tr>\n",
       "      <td>0</td>\n",
       "      <td>1</td>\n",
       "      <td>27664564858</td>\n",
       "    </tr>\n",
       "    <tr>\n",
       "      <td>1</td>\n",
       "      <td>2</td>\n",
       "      <td>35664564858</td>\n",
       "    </tr>\n",
       "    <tr>\n",
       "      <td>2</td>\n",
       "      <td>3</td>\n",
       "      <td>13464564858</td>\n",
       "    </tr>\n",
       "    <tr>\n",
       "      <td>3</td>\n",
       "      <td>4</td>\n",
       "      <td>668664858</td>\n",
       "    </tr>\n",
       "  </tbody>\n",
       "</table>\n",
       "</div>"
      ],
      "text/plain": [
       "   id          cpf\n",
       "0   1  27664564858\n",
       "1   2  35664564858\n",
       "2   3  13464564858\n",
       "3   4  668664858  "
      ]
     },
     "execution_count": 62,
     "metadata": {},
     "output_type": "execute_result"
    }
   ],
   "source": [
    "df_documentos"
   ]
  },
  {
   "cell_type": "code",
   "execution_count": 77,
   "metadata": {},
   "outputs": [
    {
     "data": {
      "text/html": [
       "<div>\n",
       "<style scoped>\n",
       "    .dataframe tbody tr th:only-of-type {\n",
       "        vertical-align: middle;\n",
       "    }\n",
       "\n",
       "    .dataframe tbody tr th {\n",
       "        vertical-align: top;\n",
       "    }\n",
       "\n",
       "    .dataframe thead th {\n",
       "        text-align: right;\n",
       "    }\n",
       "</style>\n",
       "<table border=\"1\" class=\"dataframe\">\n",
       "  <thead>\n",
       "    <tr style=\"text-align: right;\">\n",
       "      <th></th>\n",
       "      <th>id</th>\n",
       "      <th>strNome</th>\n",
       "      <th>strIdade</th>\n",
       "      <th>strEstado</th>\n",
       "      <th>strProfissao</th>\n",
       "      <th>dtNascimento</th>\n",
       "    </tr>\n",
       "  </thead>\n",
       "  <tbody>\n",
       "    <tr>\n",
       "      <td>0</td>\n",
       "      <td>1</td>\n",
       "      <td>Ricardo Silva</td>\n",
       "      <td>41</td>\n",
       "      <td>SP</td>\n",
       "      <td>Tech Lead</td>\n",
       "      <td>2008-12-17 14:37:56.310</td>\n",
       "    </tr>\n",
       "    <tr>\n",
       "      <td>1</td>\n",
       "      <td>2</td>\n",
       "      <td>Natalia Oliveira</td>\n",
       "      <td>35</td>\n",
       "      <td>SP</td>\n",
       "      <td>Analista de Dados Jr</td>\n",
       "      <td>1981-08-01 14:38:26.467</td>\n",
       "    </tr>\n",
       "    <tr>\n",
       "      <td>2</td>\n",
       "      <td>3</td>\n",
       "      <td>Carlos Oliveira</td>\n",
       "      <td>39</td>\n",
       "      <td>SP</td>\n",
       "      <td>Corretor de Seguros</td>\n",
       "      <td>1995-04-10 14:38:46.750</td>\n",
       "    </tr>\n",
       "    <tr>\n",
       "      <td>3</td>\n",
       "      <td>4</td>\n",
       "      <td>Alexandre</td>\n",
       "      <td>29</td>\n",
       "      <td>MG</td>\n",
       "      <td>Engenheiro de Dados Pleno</td>\n",
       "      <td>2008-12-17 14:39:00.180</td>\n",
       "    </tr>\n",
       "    <tr>\n",
       "      <td>4</td>\n",
       "      <td>5</td>\n",
       "      <td>Paula</td>\n",
       "      <td>35</td>\n",
       "      <td>MG</td>\n",
       "      <td>Engenheiro de Dados Pleno</td>\n",
       "      <td>2014-06-09 14:37:12.983</td>\n",
       "    </tr>\n",
       "  </tbody>\n",
       "</table>\n",
       "</div>"
      ],
      "text/plain": [
       "   id           strNome  strIdade strEstado               strProfissao  \\\n",
       "0   1     Ricardo Silva        41        SP                  Tech Lead   \n",
       "1   2  Natalia Oliveira        35        SP       Analista de Dados Jr   \n",
       "2   3   Carlos Oliveira        39        SP        Corretor de Seguros   \n",
       "3   4         Alexandre        29        MG  Engenheiro de Dados Pleno   \n",
       "4   5             Paula        35        MG  Engenheiro de Dados Pleno   \n",
       "\n",
       "             dtNascimento  \n",
       "0 2008-12-17 14:37:56.310  \n",
       "1 1981-08-01 14:38:26.467  \n",
       "2 1995-04-10 14:38:46.750  \n",
       "3 2008-12-17 14:39:00.180  \n",
       "4 2014-06-09 14:37:12.983  "
      ]
     },
     "execution_count": 77,
     "metadata": {},
     "output_type": "execute_result"
    }
   ],
   "source": [
    "df_cadastro.head()"
   ]
  },
  {
   "cell_type": "code",
   "execution_count": 78,
   "metadata": {},
   "outputs": [
    {
     "ename": "AttributeError",
     "evalue": "module 'pandas' has no attribute 'read_xml'",
     "output_type": "error",
     "traceback": [
      "\u001b[1;31m---------------------------------------------------------------------------\u001b[0m",
      "\u001b[1;31mAttributeError\u001b[0m                            Traceback (most recent call last)",
      "\u001b[1;32m<ipython-input-78-a4cc1a5c5b1e>\u001b[0m in \u001b[0;36m<module>\u001b[1;34m\u001b[0m\n\u001b[1;32m----> 1\u001b[1;33m \u001b[0mpd\u001b[0m\u001b[1;33m.\u001b[0m\u001b[0mread_xml\u001b[0m\u001b[1;33m(\u001b[0m\u001b[1;34m'C:\\\\Users\\\\ricar\\\\Downloads\\\\Python-Data-Science-and-Machine-Learning-Bootcamp\\\\download.xml'\u001b[0m\u001b[1;33m,\u001b[0m\u001b[0mencoding\u001b[0m\u001b[1;33m=\u001b[0m\u001b[1;34m'utf-8'\u001b[0m\u001b[1;33m)\u001b[0m\u001b[1;33m\u001b[0m\u001b[1;33m\u001b[0m\u001b[0m\n\u001b[0m",
      "\u001b[1;32m~\\Anaconda3\\lib\\site-packages\\pandas\\__init__.py\u001b[0m in \u001b[0;36m__getattr__\u001b[1;34m(name)\u001b[0m\n\u001b[0;32m    212\u001b[0m \u001b[1;33m\u001b[0m\u001b[0m\n\u001b[0;32m    213\u001b[0m             \u001b[1;32mreturn\u001b[0m \u001b[0mPanel\u001b[0m\u001b[1;33m\u001b[0m\u001b[1;33m\u001b[0m\u001b[0m\n\u001b[1;32m--> 214\u001b[1;33m         \u001b[1;32mraise\u001b[0m \u001b[0mAttributeError\u001b[0m\u001b[1;33m(\u001b[0m\u001b[1;34m\"module 'pandas' has no attribute '{}'\"\u001b[0m\u001b[1;33m.\u001b[0m\u001b[0mformat\u001b[0m\u001b[1;33m(\u001b[0m\u001b[0mname\u001b[0m\u001b[1;33m)\u001b[0m\u001b[1;33m)\u001b[0m\u001b[1;33m\u001b[0m\u001b[1;33m\u001b[0m\u001b[0m\n\u001b[0m\u001b[0;32m    215\u001b[0m \u001b[1;33m\u001b[0m\u001b[0m\n\u001b[0;32m    216\u001b[0m \u001b[1;33m\u001b[0m\u001b[0m\n",
      "\u001b[1;31mAttributeError\u001b[0m: module 'pandas' has no attribute 'read_xml'"
     ]
    }
   ],
   "source": [
    "pd.read_xml('C:\\\\Users\\\\ricar\\\\Downloads\\\\Python-Data-Science-and-Machine-Learning-Bootcamp\\\\download.xml',encoding='utf-8')"
   ]
  },
  {
   "cell_type": "code",
   "execution_count": 79,
   "metadata": {},
   "outputs": [],
   "source": [
    "xml = '''<?xml version='1.0' encoding='utf-8'?>\n",
    "<data xmlns=\"http://example.com\">\n",
    " <row>\n",
    "   <shape>square</shape>\n",
    "   <degrees>360</degrees>\n",
    "   <sides>4.0</sides>\n",
    " </row>\n",
    " <row>\n",
    "   <shape>circle</shape>\n",
    "   <degrees>360</degrees>\n",
    "   <sides/>\n",
    " </row>\n",
    " <row>\n",
    "   <shape>triangle</shape>\n",
    "   <degrees>180</degrees>\n",
    "   <sides>3.0</sides>\n",
    " </row>\n",
    "</data>'''"
   ]
  },
  {
   "cell_type": "code",
   "execution_count": 80,
   "metadata": {},
   "outputs": [
    {
     "ename": "AttributeError",
     "evalue": "module 'pandas' has no attribute 'read_xml'",
     "output_type": "error",
     "traceback": [
      "\u001b[1;31m---------------------------------------------------------------------------\u001b[0m",
      "\u001b[1;31mAttributeError\u001b[0m                            Traceback (most recent call last)",
      "\u001b[1;32m<ipython-input-80-b6a9563f6786>\u001b[0m in \u001b[0;36m<module>\u001b[1;34m\u001b[0m\n\u001b[1;32m----> 1\u001b[1;33m \u001b[0mdf\u001b[0m \u001b[1;33m=\u001b[0m \u001b[0mpd\u001b[0m\u001b[1;33m.\u001b[0m\u001b[0mread_xml\u001b[0m\u001b[1;33m(\u001b[0m\u001b[0mxml\u001b[0m\u001b[1;33m)\u001b[0m\u001b[1;33m\u001b[0m\u001b[1;33m\u001b[0m\u001b[0m\n\u001b[0m\u001b[0;32m      2\u001b[0m \u001b[0mdf\u001b[0m\u001b[1;33m\u001b[0m\u001b[1;33m\u001b[0m\u001b[0m\n",
      "\u001b[1;32m~\\Anaconda3\\lib\\site-packages\\pandas\\__init__.py\u001b[0m in \u001b[0;36m__getattr__\u001b[1;34m(name)\u001b[0m\n\u001b[0;32m    212\u001b[0m \u001b[1;33m\u001b[0m\u001b[0m\n\u001b[0;32m    213\u001b[0m             \u001b[1;32mreturn\u001b[0m \u001b[0mPanel\u001b[0m\u001b[1;33m\u001b[0m\u001b[1;33m\u001b[0m\u001b[0m\n\u001b[1;32m--> 214\u001b[1;33m         \u001b[1;32mraise\u001b[0m \u001b[0mAttributeError\u001b[0m\u001b[1;33m(\u001b[0m\u001b[1;34m\"module 'pandas' has no attribute '{}'\"\u001b[0m\u001b[1;33m.\u001b[0m\u001b[0mformat\u001b[0m\u001b[1;33m(\u001b[0m\u001b[0mname\u001b[0m\u001b[1;33m)\u001b[0m\u001b[1;33m)\u001b[0m\u001b[1;33m\u001b[0m\u001b[1;33m\u001b[0m\u001b[0m\n\u001b[0m\u001b[0;32m    215\u001b[0m \u001b[1;33m\u001b[0m\u001b[0m\n\u001b[0;32m    216\u001b[0m \u001b[1;33m\u001b[0m\u001b[0m\n",
      "\u001b[1;31mAttributeError\u001b[0m: module 'pandas' has no attribute 'read_xml'"
     ]
    }
   ],
   "source": [
    "df = pd.read_xml(xml)\n",
    "df"
   ]
  },
  {
   "cell_type": "code",
   "execution_count": 82,
   "metadata": {},
   "outputs": [],
   "source": [
    "from xml.dom import minidom"
   ]
  },
  {
   "cell_type": "code",
   "execution_count": 84,
   "metadata": {},
   "outputs": [],
   "source": [
    "file = minidom.parse('C:\\\\Users\\\\ricar\\\\Downloads\\\\Python-Data-Science-and-Machine-Learning-Bootcamp\\\\download.xml')"
   ]
  },
  {
   "cell_type": "code",
   "execution_count": 85,
   "metadata": {},
   "outputs": [],
   "source": [
    "models = file.getElementsByTagName('bolsa_atleta_qtd_atletas_sexo_masc_cor_branco_i')"
   ]
  },
  {
   "cell_type": "code",
   "execution_count": 86,
   "metadata": {},
   "outputs": [
    {
     "name": "stdout",
     "output_type": "stream",
     "text": [
      "<xml.dom.minidom.Document object at 0x00000199D8177288>\n"
     ]
    }
   ],
   "source": [
    "print(file)"
   ]
  },
  {
   "cell_type": "code",
   "execution_count": 87,
   "metadata": {},
   "outputs": [
    {
     "ename": "AttributeError",
     "evalue": "module 'pandas' has no attribute 'read_xml'",
     "output_type": "error",
     "traceback": [
      "\u001b[1;31m---------------------------------------------------------------------------\u001b[0m",
      "\u001b[1;31mAttributeError\u001b[0m                            Traceback (most recent call last)",
      "\u001b[1;32m<ipython-input-87-19bfbaafa29b>\u001b[0m in \u001b[0;36m<module>\u001b[1;34m\u001b[0m\n\u001b[1;32m----> 1\u001b[1;33m \u001b[0mpd\u001b[0m\u001b[1;33m.\u001b[0m\u001b[0mread_xml\u001b[0m\u001b[1;33m(\u001b[0m\u001b[0mfile\u001b[0m\u001b[1;33m)\u001b[0m\u001b[1;33m\u001b[0m\u001b[1;33m\u001b[0m\u001b[0m\n\u001b[0m",
      "\u001b[1;32m~\\Anaconda3\\lib\\site-packages\\pandas\\__init__.py\u001b[0m in \u001b[0;36m__getattr__\u001b[1;34m(name)\u001b[0m\n\u001b[0;32m    212\u001b[0m \u001b[1;33m\u001b[0m\u001b[0m\n\u001b[0;32m    213\u001b[0m             \u001b[1;32mreturn\u001b[0m \u001b[0mPanel\u001b[0m\u001b[1;33m\u001b[0m\u001b[1;33m\u001b[0m\u001b[0m\n\u001b[1;32m--> 214\u001b[1;33m         \u001b[1;32mraise\u001b[0m \u001b[0mAttributeError\u001b[0m\u001b[1;33m(\u001b[0m\u001b[1;34m\"module 'pandas' has no attribute '{}'\"\u001b[0m\u001b[1;33m.\u001b[0m\u001b[0mformat\u001b[0m\u001b[1;33m(\u001b[0m\u001b[0mname\u001b[0m\u001b[1;33m)\u001b[0m\u001b[1;33m)\u001b[0m\u001b[1;33m\u001b[0m\u001b[1;33m\u001b[0m\u001b[0m\n\u001b[0m\u001b[0;32m    215\u001b[0m \u001b[1;33m\u001b[0m\u001b[0m\n\u001b[0;32m    216\u001b[0m \u001b[1;33m\u001b[0m\u001b[0m\n",
      "\u001b[1;31mAttributeError\u001b[0m: module 'pandas' has no attribute 'read_xml'"
     ]
    }
   ],
   "source": [
    "pd.read_xml(file)"
   ]
  },
  {
   "cell_type": "code",
   "execution_count": 41,
   "metadata": {},
   "outputs": [
    {
     "ename": "ValueError",
     "evalue": "DataFrame constructor not properly called!",
     "output_type": "error",
     "traceback": [
      "\u001b[1;31m---------------------------------------------------------------------------\u001b[0m",
      "\u001b[1;31mValueError\u001b[0m                                Traceback (most recent call last)",
      "\u001b[1;32m<ipython-input-41-b4af578848e8>\u001b[0m in \u001b[0;36m<module>\u001b[1;34m\u001b[0m\n\u001b[1;32m----> 1\u001b[1;33m \u001b[0mdf\u001b[0m \u001b[1;33m=\u001b[0m \u001b[0mpd\u001b[0m\u001b[1;33m.\u001b[0m\u001b[0mDataFrame\u001b[0m\u001b[1;33m(\u001b[0m\u001b[0mfile\u001b[0m\u001b[1;33m)\u001b[0m\u001b[1;33m\u001b[0m\u001b[1;33m\u001b[0m\u001b[0m\n\u001b[0m",
      "\u001b[1;32m~\\Anaconda3\\lib\\site-packages\\pandas\\core\\frame.py\u001b[0m in \u001b[0;36m__init__\u001b[1;34m(self, data, index, columns, dtype, copy)\u001b[0m\n\u001b[0;32m    483\u001b[0m                 )\n\u001b[0;32m    484\u001b[0m             \u001b[1;32melse\u001b[0m\u001b[1;33m:\u001b[0m\u001b[1;33m\u001b[0m\u001b[1;33m\u001b[0m\u001b[0m\n\u001b[1;32m--> 485\u001b[1;33m                 \u001b[1;32mraise\u001b[0m \u001b[0mValueError\u001b[0m\u001b[1;33m(\u001b[0m\u001b[1;34m\"DataFrame constructor not properly called!\"\u001b[0m\u001b[1;33m)\u001b[0m\u001b[1;33m\u001b[0m\u001b[1;33m\u001b[0m\u001b[0m\n\u001b[0m\u001b[0;32m    486\u001b[0m \u001b[1;33m\u001b[0m\u001b[0m\n\u001b[0;32m    487\u001b[0m         \u001b[0mNDFrame\u001b[0m\u001b[1;33m.\u001b[0m\u001b[0m__init__\u001b[0m\u001b[1;33m(\u001b[0m\u001b[0mself\u001b[0m\u001b[1;33m,\u001b[0m \u001b[0mmgr\u001b[0m\u001b[1;33m,\u001b[0m \u001b[0mfastpath\u001b[0m\u001b[1;33m=\u001b[0m\u001b[1;32mTrue\u001b[0m\u001b[1;33m)\u001b[0m\u001b[1;33m\u001b[0m\u001b[1;33m\u001b[0m\u001b[0m\n",
      "\u001b[1;31mValueError\u001b[0m: DataFrame constructor not properly called!"
     ]
    }
   ],
   "source": [
    "df = pd.DataFrame(file)"
   ]
  },
  {
   "cell_type": "code",
   "execution_count": 61,
   "metadata": {},
   "outputs": [],
   "source": [
    "import pandas as pd\n",
    "import xml.etree.ElementTree as et"
   ]
  },
  {
   "cell_type": "code",
   "execution_count": 73,
   "metadata": {},
   "outputs": [],
   "source": [
    "def transform_xml(xml_doc):\n",
    "    attr = xml_doc.attrib\n",
    "    for xml in xml_doc.iter('Transaction'):\n",
    "        dict = attr.copy()\n",
    "        dict.update(xml.attrib)\n",
    "        \n",
    "        yield dict"
   ]
  },
  {
   "cell_type": "code",
   "execution_count": 63,
   "metadata": {},
   "outputs": [],
   "source": [
    "etree = et.parse('C:\\\\Users\\\\ricar\\\\Downloads\\\\Python-Data-Science-and-Machine-Learning-Bootcamp\\\\download.xml')"
   ]
  },
  {
   "cell_type": "code",
   "execution_count": 67,
   "metadata": {},
   "outputs": [],
   "source": [
    "eroot = etree.getroot()"
   ]
  },
  {
   "cell_type": "code",
   "execution_count": 68,
   "metadata": {},
   "outputs": [],
   "source": [
    "trans = transform_xml(eroot)"
   ]
  },
  {
   "cell_type": "code",
   "execution_count": 69,
   "metadata": {},
   "outputs": [],
   "source": [
    "tr_df = pd.DataFrame(list(trans))"
   ]
  },
  {
   "cell_type": "code",
   "execution_count": 70,
   "metadata": {},
   "outputs": [
    {
     "data": {
      "text/html": [
       "<div>\n",
       "<style scoped>\n",
       "    .dataframe tbody tr th:only-of-type {\n",
       "        vertical-align: middle;\n",
       "    }\n",
       "\n",
       "    .dataframe tbody tr th {\n",
       "        vertical-align: top;\n",
       "    }\n",
       "\n",
       "    .dataframe thead th {\n",
       "        text-align: right;\n",
       "    }\n",
       "</style>\n",
       "<table border=\"1\" class=\"dataframe\">\n",
       "  <thead>\n",
       "    <tr style=\"text-align: right;\">\n",
       "      <th></th>\n",
       "    </tr>\n",
       "  </thead>\n",
       "  <tbody>\n",
       "  </tbody>\n",
       "</table>\n",
       "</div>"
      ],
      "text/plain": [
       "Empty DataFrame\n",
       "Columns: []\n",
       "Index: []"
      ]
     },
     "execution_count": 70,
     "metadata": {},
     "output_type": "execute_result"
    }
   ],
   "source": [
    "tr_df"
   ]
  },
  {
   "cell_type": "code",
   "execution_count": 64,
   "metadata": {},
   "outputs": [
    {
     "data": {
      "text/plain": [
       "xml.etree.ElementTree.ElementTree"
      ]
     },
     "execution_count": 64,
     "metadata": {},
     "output_type": "execute_result"
    }
   ],
   "source": [
    "type(etree)"
   ]
  },
  {
   "cell_type": "code",
   "execution_count": 72,
   "metadata": {},
   "outputs": [
    {
     "data": {
      "text/plain": [
       "<xml.etree.ElementTree.ElementTree at 0x199d2bb46c8>"
      ]
     },
     "metadata": {},
     "output_type": "display_data"
    }
   ],
   "source": [
    "display(etree)"
   ]
  },
  {
   "cell_type": "code",
   "execution_count": 88,
   "metadata": {},
   "outputs": [],
   "source": [
    "import pandas as pd \n",
    "import xml.etree.ElementTree as et \n",
    "\n",
    "xtree = et.parse('C:\\\\Users\\\\ricar\\\\Downloads\\\\Python-Data-Science-and-Machine-Learning-Bootcamp\\\\download.xml')\n",
    "xroot = xtree.getroot()"
   ]
  },
  {
   "cell_type": "code",
   "execution_count": 90,
   "metadata": {},
   "outputs": [
    {
     "data": {
      "text/plain": [
       "<xml.etree.ElementTree.ElementTree at 0x199d44a2688>"
      ]
     },
     "metadata": {},
     "output_type": "display_data"
    }
   ],
   "source": [
    "display(xtree)"
   ]
  },
  {
   "cell_type": "code",
   "execution_count": 91,
   "metadata": {},
   "outputs": [
    {
     "name": "stdout",
     "output_type": "stream",
     "text": [
      "SL No ITEM_NUMBER PRICE   QUANTITY DISCOUNT\n",
      "    1        meat   200        1kg       7%\n",
      "    2        fish   150        1kg       5%\n",
      "    3         egg   100  50 pieces       5%\n",
      "    4        milk    50    1 litre       3%\n"
     ]
    }
   ],
   "source": [
    "import xml.etree.ElementTree as ETree\n",
    "import pandas as pd\n",
    "  \n",
    "xmldata = '''<?xml version=\"1.0\" encoding=\"UTF-8\"?>\n",
    "        <Food>\n",
    "            <Info>\n",
    "            <Msg>Food Store items.</Msg>\n",
    "            </Info>\n",
    "            <store slNo=\"1\">\n",
    "                <foodItem>meat</foodItem>\n",
    "                <price>200</price>\n",
    "                <quantity>1kg</quantity>\n",
    "                <discount>7%</discount>\n",
    "            </store>\n",
    "            <store slNo=\"2\">\n",
    "                <foodItem>fish</foodItem>\n",
    "                <price>150</price>\n",
    "                <quantity>1kg</quantity>\n",
    "                <discount>5%</discount>\n",
    "            </store>\n",
    "            <store slNo=\"3\">\n",
    "                <foodItem>egg</foodItem>\n",
    "                <price>100</price>\n",
    "                <quantity>50 pieces</quantity>\n",
    "                <discount>5%</discount>\n",
    "            </store>\n",
    "            <store slNo=\"4\">\n",
    "                <foodItem>milk</foodItem>\n",
    "                <price>50</price>\n",
    "                <quantity>1 litre</quantity>\n",
    "                <discount>3%</discount>\n",
    "            </store>\n",
    "        </Food>\n",
    "'''\n",
    "  \n",
    "prstree = ETree.fromstring(xmldata)\n",
    "root = prstree.tag\n",
    "  \n",
    "#print(root)\n",
    "store_items = []\n",
    "all_items = []\n",
    "  \n",
    "for storeno in prstree.findall('store'):  \n",
    "    store_Nr = storeno.attrib.get('slNo')\n",
    "    itemsF= storeno.find('foodItem').text\n",
    "    price= storeno.find('price').text\n",
    "    quan= storeno.find('quantity').text\n",
    "    dis= storeno.find('discount').text\n",
    "          \n",
    "    store_items = [store_Nr,itemsF,price,quan,dis]\n",
    "    all_items.append(store_items)\n",
    "  \n",
    "xmlToDf = pd.DataFrame(all_items,columns=[\n",
    "  'SL No','ITEM_NUMBER','PRICE','QUANTITY','DISCOUNT'])        \n",
    "  \n",
    "print(xmlToDf.to_string(index=False))"
   ]
  },
  {
   "cell_type": "code",
   "execution_count": 180,
   "metadata": {},
   "outputs": [],
   "source": [
    "import pandas as pd\n",
    "import xml.etree.ElementTree as ET\n",
    "\n",
    "arquivo = ('download.xml')\n",
    "\n",
    "def lerXML(arquivo):\n",
    "    xml_dados = open(arquivo, 'r', encoding='UTF-8').read()\n",
    "    raiz = ET.XML(xml_dados)\n",
    "    dados = []\n",
    "    colunas = []\n",
    "    for i,child in enumerate(raiz):\n",
    "        dados.append([subchild.text for subchild in child])\n",
    "        colunas.append([subchild.tag for subchild in child])\n",
    "    df = pd.DataFrame(dados)\n",
    "    df.columns = colunas[0]\n",
    "    return df"
   ]
  },
  {
   "cell_type": "code",
   "execution_count": 181,
   "metadata": {},
   "outputs": [
    {
     "data": {
      "text/html": [
       "<div>\n",
       "<style scoped>\n",
       "    .dataframe tbody tr th:only-of-type {\n",
       "        vertical-align: middle;\n",
       "    }\n",
       "\n",
       "    .dataframe tbody tr th {\n",
       "        vertical-align: top;\n",
       "    }\n",
       "\n",
       "    .dataframe thead th {\n",
       "        text-align: right;\n",
       "    }\n",
       "</style>\n",
       "<table border=\"1\" class=\"dataframe\">\n",
       "  <thead>\n",
       "    <tr style=\"text-align: right;\">\n",
       "      <th></th>\n",
       "      <th>EndCli</th>\n",
       "      <th>TelCli</th>\n",
       "      <th>TelCli</th>\n",
       "      <th>EndEtnCli</th>\n",
       "      <th>EndEtnCli</th>\n",
       "    </tr>\n",
       "  </thead>\n",
       "  <tbody>\n",
       "    <tr>\n",
       "      <td>0</td>\n",
       "      <td>None</td>\n",
       "      <td>None</td>\n",
       "      <td>None</td>\n",
       "      <td>None</td>\n",
       "      <td>None</td>\n",
       "    </tr>\n",
       "  </tbody>\n",
       "</table>\n",
       "</div>"
      ],
      "text/plain": [
       "  EndCli TelCli TelCli EndEtnCli EndEtnCli\n",
       "0   None   None   None      None      None"
      ]
     },
     "execution_count": 181,
     "metadata": {},
     "output_type": "execute_result"
    }
   ],
   "source": [
    "lerXML(arquivo)"
   ]
  },
  {
   "cell_type": "code",
   "execution_count": 31,
   "metadata": {},
   "outputs": [],
   "source": [
    "import json\n",
    "import xmltodict \n",
    "with open('download.xml') as xml_file:\n",
    "    data_dict = xmltodict.parse(xml_file.read())     \n",
    "    json_data = json.dumps(data_dict)\n",
    "    with open(\"data.json\", \"w\") as json_file:\n",
    "        json_file.write(json_data)   "
   ]
  },
  {
   "cell_type": "code",
   "execution_count": 147,
   "metadata": {},
   "outputs": [
    {
     "data": {
      "text/html": [
       "<div>\n",
       "<style scoped>\n",
       "    .dataframe tbody tr th:only-of-type {\n",
       "        vertical-align: middle;\n",
       "    }\n",
       "\n",
       "    .dataframe tbody tr th {\n",
       "        vertical-align: top;\n",
       "    }\n",
       "\n",
       "    .dataframe thead th {\n",
       "        text-align: right;\n",
       "    }\n",
       "</style>\n",
       "<table border=\"1\" class=\"dataframe\">\n",
       "  <thead>\n",
       "    <tr style=\"text-align: right;\">\n",
       "      <th></th>\n",
       "      <th>Envocad</th>\n",
       "    </tr>\n",
       "  </thead>\n",
       "  <tbody>\n",
       "    <tr>\n",
       "      <td>@CnpjOgm</td>\n",
       "      <td>123456789</td>\n",
       "    </tr>\n",
       "    <tr>\n",
       "      <td>@NmOgm</td>\n",
       "      <td>NHS Teste</td>\n",
       "    </tr>\n",
       "    <tr>\n",
       "      <td>Cli</td>\n",
       "      <td>{'@TipCli': '1', '@IdfcCli': '45000000', 'EndC...</td>\n",
       "    </tr>\n",
       "  </tbody>\n",
       "</table>\n",
       "</div>"
      ],
      "text/plain": [
       "                                                    Envocad\n",
       "@CnpjOgm                                          123456789\n",
       "@NmOgm                                            NHS Teste\n",
       "Cli       {'@TipCli': '1', '@IdfcCli': '45000000', 'EndC..."
      ]
     },
     "execution_count": 147,
     "metadata": {},
     "output_type": "execute_result"
    }
   ],
   "source": [
    "pd.read_json('C:\\\\Users\\\\ricar\\\\Downloads\\\\Python-Data-Science-and-Machine-Learning-Bootcamp\\\\data.json')"
   ]
  },
  {
   "cell_type": "code",
   "execution_count": 30,
   "metadata": {},
   "outputs": [],
   "source": [
    "from xml.etree import ElementTree as ET\n",
    "\n",
    "xml    = ET.parse('download.xml')\n",
    "\n",
    "\n",
    "def parseXmlToJson(xml):\n",
    "    response = {}\n",
    "    for child in list(xml):\n",
    "        if len(list(child)) > 0:\n",
    "            response[child.tag] = parseXmlToJson(child)\n",
    "        else:\n",
    "            response[child.tag] = child.text or ''\n",
    "            return response"
   ]
  },
  {
   "cell_type": "code",
   "execution_count": 125,
   "metadata": {},
   "outputs": [
    {
     "ename": "RecursionError",
     "evalue": "maximum recursion depth exceeded while calling a Python object",
     "output_type": "error",
     "traceback": [
      "\u001b[1;31m---------------------------------------------------------------------------\u001b[0m",
      "\u001b[1;31mRecursionError\u001b[0m                            Traceback (most recent call last)",
      "\u001b[1;32m<ipython-input-125-335b30481f62>\u001b[0m in \u001b[0;36m<module>\u001b[1;34m\u001b[0m\n\u001b[0;32m      1\u001b[0m \u001b[0marquivo\u001b[0m \u001b[1;33m=\u001b[0m \u001b[1;33m(\u001b[0m\u001b[1;34m'C:\\\\Users\\\\ricar\\\\Downloads\\\\Python-Data-Science-and-Machine-Learning-Bootcamp\\\\download.xml'\u001b[0m\u001b[1;33m)\u001b[0m\u001b[1;33m\u001b[0m\u001b[1;33m\u001b[0m\u001b[0m\n\u001b[1;32m----> 2\u001b[1;33m \u001b[0mparseXmlToJson\u001b[0m\u001b[1;33m(\u001b[0m\u001b[0marquivo\u001b[0m\u001b[1;33m)\u001b[0m\u001b[1;33m\u001b[0m\u001b[1;33m\u001b[0m\u001b[0m\n\u001b[0m",
      "\u001b[1;32m<ipython-input-124-50bd964968a0>\u001b[0m in \u001b[0;36mparseXmlToJson\u001b[1;34m(xml)\u001b[0m\n\u001b[0;32m      8\u001b[0m     \u001b[1;32mfor\u001b[0m \u001b[0mchild\u001b[0m \u001b[1;32min\u001b[0m \u001b[0mlist\u001b[0m\u001b[1;33m(\u001b[0m\u001b[0mxml\u001b[0m\u001b[1;33m)\u001b[0m\u001b[1;33m:\u001b[0m\u001b[1;33m\u001b[0m\u001b[1;33m\u001b[0m\u001b[0m\n\u001b[0;32m      9\u001b[0m         \u001b[1;32mif\u001b[0m \u001b[0mlen\u001b[0m\u001b[1;33m(\u001b[0m\u001b[0mlist\u001b[0m\u001b[1;33m(\u001b[0m\u001b[0mchild\u001b[0m\u001b[1;33m)\u001b[0m\u001b[1;33m)\u001b[0m \u001b[1;33m>\u001b[0m \u001b[1;36m0\u001b[0m\u001b[1;33m:\u001b[0m\u001b[1;33m\u001b[0m\u001b[1;33m\u001b[0m\u001b[0m\n\u001b[1;32m---> 10\u001b[1;33m             \u001b[0mresponse\u001b[0m\u001b[1;33m[\u001b[0m\u001b[0mchild\u001b[0m\u001b[1;33m.\u001b[0m\u001b[0mtag\u001b[0m\u001b[1;33m]\u001b[0m \u001b[1;33m=\u001b[0m \u001b[0mparseXmlToJson\u001b[0m\u001b[1;33m(\u001b[0m\u001b[0mchild\u001b[0m\u001b[1;33m)\u001b[0m\u001b[1;33m\u001b[0m\u001b[1;33m\u001b[0m\u001b[0m\n\u001b[0m\u001b[0;32m     11\u001b[0m         \u001b[1;32melse\u001b[0m\u001b[1;33m:\u001b[0m\u001b[1;33m\u001b[0m\u001b[1;33m\u001b[0m\u001b[0m\n\u001b[0;32m     12\u001b[0m             \u001b[0mresponse\u001b[0m\u001b[1;33m[\u001b[0m\u001b[0mchild\u001b[0m\u001b[1;33m.\u001b[0m\u001b[0mtag\u001b[0m\u001b[1;33m]\u001b[0m \u001b[1;33m=\u001b[0m \u001b[0mchild\u001b[0m\u001b[1;33m.\u001b[0m\u001b[0mtext\u001b[0m \u001b[1;32mor\u001b[0m \u001b[1;34m''\u001b[0m\u001b[1;33m\u001b[0m\u001b[1;33m\u001b[0m\u001b[0m\n",
      "... last 1 frames repeated, from the frame below ...\n",
      "\u001b[1;32m<ipython-input-124-50bd964968a0>\u001b[0m in \u001b[0;36mparseXmlToJson\u001b[1;34m(xml)\u001b[0m\n\u001b[0;32m      8\u001b[0m     \u001b[1;32mfor\u001b[0m \u001b[0mchild\u001b[0m \u001b[1;32min\u001b[0m \u001b[0mlist\u001b[0m\u001b[1;33m(\u001b[0m\u001b[0mxml\u001b[0m\u001b[1;33m)\u001b[0m\u001b[1;33m:\u001b[0m\u001b[1;33m\u001b[0m\u001b[1;33m\u001b[0m\u001b[0m\n\u001b[0;32m      9\u001b[0m         \u001b[1;32mif\u001b[0m \u001b[0mlen\u001b[0m\u001b[1;33m(\u001b[0m\u001b[0mlist\u001b[0m\u001b[1;33m(\u001b[0m\u001b[0mchild\u001b[0m\u001b[1;33m)\u001b[0m\u001b[1;33m)\u001b[0m \u001b[1;33m>\u001b[0m \u001b[1;36m0\u001b[0m\u001b[1;33m:\u001b[0m\u001b[1;33m\u001b[0m\u001b[1;33m\u001b[0m\u001b[0m\n\u001b[1;32m---> 10\u001b[1;33m             \u001b[0mresponse\u001b[0m\u001b[1;33m[\u001b[0m\u001b[0mchild\u001b[0m\u001b[1;33m.\u001b[0m\u001b[0mtag\u001b[0m\u001b[1;33m]\u001b[0m \u001b[1;33m=\u001b[0m \u001b[0mparseXmlToJson\u001b[0m\u001b[1;33m(\u001b[0m\u001b[0mchild\u001b[0m\u001b[1;33m)\u001b[0m\u001b[1;33m\u001b[0m\u001b[1;33m\u001b[0m\u001b[0m\n\u001b[0m\u001b[0;32m     11\u001b[0m         \u001b[1;32melse\u001b[0m\u001b[1;33m:\u001b[0m\u001b[1;33m\u001b[0m\u001b[1;33m\u001b[0m\u001b[0m\n\u001b[0;32m     12\u001b[0m             \u001b[0mresponse\u001b[0m\u001b[1;33m[\u001b[0m\u001b[0mchild\u001b[0m\u001b[1;33m.\u001b[0m\u001b[0mtag\u001b[0m\u001b[1;33m]\u001b[0m \u001b[1;33m=\u001b[0m \u001b[0mchild\u001b[0m\u001b[1;33m.\u001b[0m\u001b[0mtext\u001b[0m \u001b[1;32mor\u001b[0m \u001b[1;34m''\u001b[0m\u001b[1;33m\u001b[0m\u001b[1;33m\u001b[0m\u001b[0m\n",
      "\u001b[1;31mRecursionError\u001b[0m: maximum recursion depth exceeded while calling a Python object"
     ]
    }
   ],
   "source": [
    "arquivo = ('C:\\\\Users\\\\ricar\\\\Downloads\\\\Python-Data-Science-and-Machine-Learning-Bootcamp\\\\download.xml')\n",
    "parseXmlToJson(arquivo)"
   ]
  },
  {
   "cell_type": "code",
   "execution_count": 28,
   "metadata": {},
   "outputs": [],
   "source": [
    "with open('C:\\\\Users\\\\ricar\\\\Downloads\\\\Python-Data-Science-and-Machine-Learning-Bootcamp\\\\download.xml') as fd:\n",
    "    print"
   ]
  },
  {
   "cell_type": "code",
   "execution_count": 21,
   "metadata": {},
   "outputs": [
    {
     "name": "stdout",
     "output_type": "stream",
     "text": [
      "Requirement already satisfied: xmljson in c:\\users\\ricar\\anaconda3\\lib\\site-packages (0.2.1)\n",
      "Collecting xmltodict\n",
      "  Using cached https://files.pythonhosted.org/packages/94/db/fd0326e331726f07ff7f40675cd86aa804bfd2e5016c727fa761c934990e/xmltodict-0.13.0-py2.py3-none-any.whl\n",
      "Installing collected packages: xmltodict\n",
      "Successfully installed xmltodict-0.13.0\n"
     ]
    }
   ],
   "source": [
    "!pip install xmljson\n",
    "!pip install xmltodict"
   ]
  },
  {
   "cell_type": "code",
   "execution_count": 17,
   "metadata": {},
   "outputs": [],
   "source": [
    "import pandas as pd\n",
    "import xml.etree.ElementTree as et"
   ]
  },
  {
   "cell_type": "code",
   "execution_count": 18,
   "metadata": {},
   "outputs": [],
   "source": [
    "etree = et.parse(\"download.xml\")\n",
    "eroot = etree.getroot()\n",
    "list1 = eroot.findall('Cli')"
   ]
  },
  {
   "cell_type": "code",
   "execution_count": 345,
   "metadata": {},
   "outputs": [],
   "source": [
    "def parse_xml(root):\n",
    "    attr = root.attrib\n",
    "    dados = []\n",
    "    for root_element in eroot.findall(\"Cli\"):\n",
    "        xml_data = attr.copy()\n",
    "        xml_data.update(root_element.attrib)\n",
    "        dados.append(root_element.attrib)\n",
    "        \n",
    "    for email in root_element.findall(\"EndCli\"):\n",
    "        xml_data.update(email.attrib)\n",
    "        dados.append(email.attrib)\n",
    "        \n",
    "    for term in root_element.findall(\"EndEtnCli\"):\n",
    "        xml_data.update(term.attrib)\n",
    "        dados.append(term.attrib)\n",
    "        \n",
    "    for term in root_element.findall(\"TelCli\"):\n",
    "        xml_data.update(term.attrib)\n",
    "        dados.append(term.attrib)\n",
    "        \n",
    "    print(dados)\n",
    "    yield xml_data"
   ]
  },
  {
   "cell_type": "code",
   "execution_count": 346,
   "metadata": {},
   "outputs": [
    {
     "name": "stdout",
     "output_type": "stream",
     "text": [
      "[{'TipCli': '1', 'IdfcCli': '45000000'}, {'LgrEndCli': 'Avenida Real do Parque'}, {'EmailCli': 'teste@ig.com.br'}, {'EmailCli': 'ricardo@ig.com.br'}, {'DddTelCli': '11', 'NrTelCli': '36094332'}, {'DddTelCli': '13', 'NrTelCli': '43244000'}]\n"
     ]
    },
    {
     "data": {
      "text/html": [
       "<div>\n",
       "<style scoped>\n",
       "    .dataframe tbody tr th:only-of-type {\n",
       "        vertical-align: middle;\n",
       "    }\n",
       "\n",
       "    .dataframe tbody tr th {\n",
       "        vertical-align: top;\n",
       "    }\n",
       "\n",
       "    .dataframe thead th {\n",
       "        text-align: right;\n",
       "    }\n",
       "</style>\n",
       "<table border=\"1\" class=\"dataframe\">\n",
       "  <thead>\n",
       "    <tr style=\"text-align: right;\">\n",
       "      <th></th>\n",
       "      <th>CnpjOgm</th>\n",
       "      <th>NmOgm</th>\n",
       "      <th>TipCli</th>\n",
       "      <th>IdfcCli</th>\n",
       "      <th>LgrEndCli</th>\n",
       "      <th>EmailCli</th>\n",
       "      <th>DddTelCli</th>\n",
       "      <th>NrTelCli</th>\n",
       "    </tr>\n",
       "  </thead>\n",
       "  <tbody>\n",
       "    <tr>\n",
       "      <td>0</td>\n",
       "      <td>123456789</td>\n",
       "      <td>NHS Teste</td>\n",
       "      <td>1</td>\n",
       "      <td>45000000</td>\n",
       "      <td>Avenida Real do Parque</td>\n",
       "      <td>ricardo@ig.com.br</td>\n",
       "      <td>13</td>\n",
       "      <td>43244000</td>\n",
       "    </tr>\n",
       "  </tbody>\n",
       "</table>\n",
       "</div>"
      ],
      "text/plain": [
       "     CnpjOgm      NmOgm TipCli   IdfcCli               LgrEndCli  \\\n",
       "0  123456789  NHS Teste      1  45000000  Avenida Real do Parque   \n",
       "\n",
       "            EmailCli DddTelCli  NrTelCli  \n",
       "0  ricardo@ig.com.br        13  43244000  "
      ]
     },
     "execution_count": 346,
     "metadata": {},
     "output_type": "execute_result"
    }
   ],
   "source": [
    "data = parse_xml(eroot)\n",
    "data = list(data)\n",
    "df = pd.DataFrame(data)\n",
    "df"
   ]
  },
  {
   "cell_type": "code",
   "execution_count": 347,
   "metadata": {},
   "outputs": [],
   "source": [
    "def parse_xml(root):\n",
    "    attr = root.attrib\n",
    "    dados = []\n",
    "    for root_element in eroot.findall(\"Cli\"):\n",
    "        xml_data = attr.copy()\n",
    "        xml_data.update(root_element.attrib)\n",
    "        dados.append(root_element.attrib)\n",
    "        \n",
    "    for email in root_element.findall(\"EndCli\"):\n",
    "        xml_data.update(email.attrib)\n",
    "        dados.append(email.attrib)\n",
    "        \n",
    "    for term in root_element.findall(\"EndEtnCli\"):\n",
    "        xml_data.update(term.attrib)\n",
    "        dados.append(term.attrib)\n",
    "        \n",
    "    for term in root_element.findall(\"TelCli\"):\n",
    "        xml_data.update(term.attrib)\n",
    "        dados.append(term.attrib)\n",
    "        \n",
    "    yield xml_data"
   ]
  },
  {
   "cell_type": "code",
   "execution_count": 21,
   "metadata": {},
   "outputs": [
    {
     "name": "stdout",
     "output_type": "stream",
     "text": [
      "{'Envocad': {'@CnpjOgm': '123456789', '@NmOgm': 'NHS Teste', 'Cli': {'@TipCli': '1', '@IdfcCli': '45000000', 'EndCli': {'@LgrEndCli': 'Avenida Real do Parque'}, 'TelCli': [{'@DddTelCli': '11', '@NrTelCli': '36094332'}, {'@DddTelCli': '13', '@NrTelCli': '43244000'}], 'EndEtnCli': [{'@EmailCli': 'teste@ig.com.br'}, {'@EmailCli': 'ricardo@ig.com.br'}]}}}\n"
     ]
    }
   ],
   "source": [
    "import pandas as pd\n",
    "import xmltodict\n",
    "\n",
    "with open('download.xml') as xml_file:\n",
    "    data_dict = xmltodict.parse(xml_file.read())\n",
    "    df1 = pd.DataFrame.from_dict(data_dict)\n",
    "    print(data_dict)\n",
    "    df = pd.DataFrame.from_dict(data_dict, orient=\"index\").reset_index()\n",
    "    "
   ]
  },
  {
   "cell_type": "code",
   "execution_count": 36,
   "metadata": {},
   "outputs": [
    {
     "name": "stdout",
     "output_type": "stream",
     "text": [
      "Envocad\n"
     ]
    }
   ],
   "source": [
    "import pandas as pd\n",
    "import xmltodict\n",
    "\n",
    "with open('download.xml') as xml_file:\n",
    "    data_dict = xmltodict.parse(xml_file.read())\n",
    "    df1 = pd.DataFrame.from_dict(data_dict)    \n",
    "    for x in data_dict.keys():\n",
    "        print(x)"
   ]
  },
  {
   "cell_type": "code",
   "execution_count": 210,
   "metadata": {},
   "outputs": [
    {
     "name": "stdout",
     "output_type": "stream",
     "text": [
      "{'@LgrEndCli': 'Avenida Real do Parque'}\n",
      "{'@DddTelCli': '11', '@NrTelCli': '36094332'}\n",
      "[{'@EmailCli': 'teste@ig.com.br'}, {'@EmailCli': 'ricardo@ig.com.br'}]\n"
     ]
    }
   ],
   "source": [
    "valor = data_dict[\"Envocad\"]\n",
    "##print(valor)\n",
    "valor = data_dict[\"Envocad\"]['Cli']\n",
    "##print(valor)\n",
    "valor = data_dict[\"Envocad\"]['Cli']['EndCli']\n",
    "print(valor)\n",
    "valor = data_dict[\"Envocad\"]['Cli']['TelCli'][0]\n",
    "print(valor)\n",
    "valor = data_dict[\"Envocad\"]['Cli']['EndEtnCli']\n",
    "print(valor)"
   ]
  },
  {
   "cell_type": "code",
   "execution_count": 124,
   "metadata": {},
   "outputs": [
    {
     "name": "stdout",
     "output_type": "stream",
     "text": [
      "['@TipCli', '@IdfcCli', 'EndCli', 'TelCli', 'EndEtnCli', '@LgrEndCli', {'@DddTelCli': '11', '@NrTelCli': '36094332'}, {'@DddTelCli': '13', '@NrTelCli': '43244000'}, {'@EmailCli': 'teste@ig.com.br'}, {'@EmailCli': 'ricardo@ig.com.br'}]\n"
     ]
    }
   ],
   "source": [
    "dados = []\n",
    "\n",
    "with open('download.xml') as xml_file:\n",
    "    data_dict = xmltodict.parse(xml_file.read())\n",
    "\n",
    "##for raiz in data_dict.values():\n",
    "  ##  dados.append(raiz)\n",
    "    ##print(raiz)\n",
    "    \n",
    "\n",
    "for raiz in data_dict[\"Envocad\"]['Cli']:\n",
    "    dados.append(raiz)\n",
    "    ##print(raiz)    \n",
    "    \n",
    "for raiz in data_dict[\"Envocad\"]['Cli']['EndCli']:\n",
    "    dados.append(raiz)\n",
    "    ##print(raiz)    \n",
    "\n",
    "for raiz in data_dict[\"Envocad\"]['Cli']['TelCli']:\n",
    "    dados.append(raiz)\n",
    "    ##print(raiz)\n",
    "    \n",
    "for raiz in data_dict[\"Envocad\"]['Cli']['EndEtnCli']:\n",
    "    dados.append(raiz)\n",
    "    ##print(raiz)\n",
    "\n",
    "print(dados)"
   ]
  },
  {
   "cell_type": "code",
   "execution_count": 168,
   "metadata": {},
   "outputs": [
    {
     "name": "stdout",
     "output_type": "stream",
     "text": [
      "{'@DddTelCli': '11', '@NrTelCli': '36094332'}\n",
      "{'@DddTelCli': '13', '@NrTelCli': '43244000'}\n",
      "{'Envocad': {'@CnpjOgm': '123456789', '@NmOgm': 'NHS Teste', 'Cli': {'@TipCli': '1', '@IdfcCli': '45000000', 'EndCli': {'@LgrEndCli': 'Avenida Real do Parque'}, 'TelCli': [{'@DddTelCli': '11', '@NrTelCli': '36094332'}, {'@DddTelCli': '13', '@NrTelCli': '43244000'}], 'EndEtnCli': [{'@EmailCli': 'teste@ig.com.br'}, {'@EmailCli': 'ricardo@ig.com.br'}]}}}\n",
      "{'Envocad': {'@CnpjOgm': '123456789', '@NmOgm': 'NHS Teste', 'Cli': {'@TipCli': '1', '@IdfcCli': '45000000', 'EndCli': {'@LgrEndCli': 'Avenida Real do Parque'}, 'TelCli': [{'@DddTelCli': '11', '@NrTelCli': '36094332'}, {'@DddTelCli': '13', '@NrTelCli': '43244000'}], 'EndEtnCli': [{'@EmailCli': 'teste@ig.com.br'}, {'@EmailCli': 'ricardo@ig.com.br'}]}}}\n"
     ]
    }
   ],
   "source": [
    "with open('download.xml') as xml_file:\n",
    "    data_dict = xmltodict.parse(xml_file.read())    \n",
    "\n",
    "for raiz in data_dict[\"Envocad\"]['Cli']:\n",
    "    cli = raiz    \n",
    "    \n",
    "for raiz in data_dict[\"Envocad\"]['Cli']['EndCli']:\n",
    "    end = raiz \n",
    "\n",
    "for raiz in data_dict[\"Envocad\"]['Cli']['TelCli']:\n",
    "    tel = raiz\n",
    "    print(tel)    \n",
    "    \n",
    "for raiz in data_dict[\"Envocad\"]['Cli']['EndEtnCli']:\n",
    "    email = raiz\n",
    "    print(data_dict)\n",
    "\n"
   ]
  },
  {
   "cell_type": "code",
   "execution_count": 158,
   "metadata": {},
   "outputs": [
    {
     "data": {
      "text/html": [
       "<div>\n",
       "<style scoped>\n",
       "    .dataframe tbody tr th:only-of-type {\n",
       "        vertical-align: middle;\n",
       "    }\n",
       "\n",
       "    .dataframe tbody tr th {\n",
       "        vertical-align: top;\n",
       "    }\n",
       "\n",
       "    .dataframe thead th {\n",
       "        text-align: right;\n",
       "    }\n",
       "</style>\n",
       "<table border=\"1\" class=\"dataframe\">\n",
       "  <thead>\n",
       "    <tr style=\"text-align: right;\">\n",
       "      <th></th>\n",
       "      <th>@CnpjOgm</th>\n",
       "      <th>@NmOgm</th>\n",
       "      <th>Cli</th>\n",
       "    </tr>\n",
       "  </thead>\n",
       "  <tbody>\n",
       "    <tr>\n",
       "      <td>Envocad</td>\n",
       "      <td>123456789</td>\n",
       "      <td>NHS Teste</td>\n",
       "      <td>{'@TipCli': '1', '@IdfcCli': '45000000', 'EndC...</td>\n",
       "    </tr>\n",
       "  </tbody>\n",
       "</table>\n",
       "</div>"
      ],
      "text/plain": [
       "          @CnpjOgm     @NmOgm  \\\n",
       "Envocad  123456789  NHS Teste   \n",
       "\n",
       "                                                       Cli  \n",
       "Envocad  {'@TipCli': '1', '@IdfcCli': '45000000', 'EndC...  "
      ]
     },
     "metadata": {},
     "output_type": "display_data"
    }
   ],
   "source": [
    "import json \n",
    "import pandas as pd \n",
    "from pandas.io.json import json_normalize\n",
    "\n",
    "with open('data.json') as f:\n",
    "    d = json.load(f)\n",
    "    df2 = pd.DataFrame.from_dict(d, orient=\"index\")\n",
    "display(df2)"
   ]
  },
  {
   "cell_type": "code",
   "execution_count": 179,
   "metadata": {},
   "outputs": [
    {
     "ename": "TypeError",
     "evalue": "expected str, bytes or os.PathLike object, not ElementTree",
     "output_type": "error",
     "traceback": [
      "\u001b[1;31m---------------------------------------------------------------------------\u001b[0m",
      "\u001b[1;31mTypeError\u001b[0m                                 Traceback (most recent call last)",
      "\u001b[1;32m<ipython-input-179-d07198e00fce>\u001b[0m in \u001b[0;36m<module>\u001b[1;34m\u001b[0m\n\u001b[1;32m----> 1\u001b[1;33m \u001b[0mlerXML\u001b[0m\u001b[1;33m(\u001b[0m\u001b[0metree\u001b[0m\u001b[1;33m)\u001b[0m\u001b[1;33m\u001b[0m\u001b[1;33m\u001b[0m\u001b[0m\n\u001b[0m",
      "\u001b[1;32m<ipython-input-170-349f7f049e13>\u001b[0m in \u001b[0;36mlerXML\u001b[1;34m(arquivo)\u001b[0m\n\u001b[0;32m      5\u001b[0m \u001b[1;33m\u001b[0m\u001b[0m\n\u001b[0;32m      6\u001b[0m \u001b[1;32mdef\u001b[0m \u001b[0mlerXML\u001b[0m\u001b[1;33m(\u001b[0m\u001b[0marquivo\u001b[0m\u001b[1;33m)\u001b[0m\u001b[1;33m:\u001b[0m\u001b[1;33m\u001b[0m\u001b[1;33m\u001b[0m\u001b[0m\n\u001b[1;32m----> 7\u001b[1;33m     \u001b[0mxml_dados\u001b[0m \u001b[1;33m=\u001b[0m \u001b[0mopen\u001b[0m\u001b[1;33m(\u001b[0m\u001b[0marquivo\u001b[0m\u001b[1;33m,\u001b[0m \u001b[1;34m'r'\u001b[0m\u001b[1;33m,\u001b[0m \u001b[0mencoding\u001b[0m\u001b[1;33m=\u001b[0m\u001b[1;34m'UTF-8'\u001b[0m\u001b[1;33m)\u001b[0m\u001b[1;33m.\u001b[0m\u001b[0mread\u001b[0m\u001b[1;33m(\u001b[0m\u001b[1;33m)\u001b[0m\u001b[1;33m\u001b[0m\u001b[1;33m\u001b[0m\u001b[0m\n\u001b[0m\u001b[0;32m      8\u001b[0m     \u001b[0mraiz\u001b[0m \u001b[1;33m=\u001b[0m \u001b[0mET\u001b[0m\u001b[1;33m.\u001b[0m\u001b[0mXML\u001b[0m\u001b[1;33m(\u001b[0m\u001b[0mxml_dados\u001b[0m\u001b[1;33m)\u001b[0m\u001b[1;33m\u001b[0m\u001b[1;33m\u001b[0m\u001b[0m\n\u001b[0;32m      9\u001b[0m     \u001b[0mdados\u001b[0m \u001b[1;33m=\u001b[0m \u001b[1;33m[\u001b[0m\u001b[1;33m]\u001b[0m\u001b[1;33m\u001b[0m\u001b[1;33m\u001b[0m\u001b[0m\n",
      "\u001b[1;31mTypeError\u001b[0m: expected str, bytes or os.PathLike object, not ElementTree"
     ]
    }
   ],
   "source": [
    "lerXML(etree)"
   ]
  },
  {
   "cell_type": "code",
   "execution_count": 343,
   "metadata": {},
   "outputs": [],
   "source": [
    "import pandas as pd\n",
    "import xmltodict\n",
    "\n",
    "with open('download.xml') as xml_file:\n",
    "    data_dict = xmltodict.parse(xml_file.read())    "
   ]
  },
  {
   "cell_type": "code",
   "execution_count": 344,
   "metadata": {},
   "outputs": [
    {
     "name": "stdout",
     "output_type": "stream",
     "text": [
      "{'Envocad': {'@CnpjOgm': '123456789', '@NmOgm': 'NHS Teste', 'Cli': {'@TipCli': '1', '@IdfcCli': '45000000', 'EndCli': {'@LgrEndCli': 'Avenida Real do Parque'}, 'TelCli': [{'@DddTelCli': '11', '@NrTelCli': '36094332'}, {'@DddTelCli': '13', '@NrTelCli': '43244000'}], 'EndEtnCli': [{'@EmailCli': 'teste@ig.com.br'}, {'@EmailCli': 'ricardo@ig.com.br'}]}}}\n"
     ]
    }
   ],
   "source": [
    "print(data_dict)"
   ]
  },
  {
   "cell_type": "code",
   "execution_count": 200,
   "metadata": {},
   "outputs": [],
   "source": [
    "for raiz in data_dict[\"Envocad\"]['Cli']['TelCli'][0]:\n",
    "    data = raiz    "
   ]
  },
  {
   "cell_type": "code",
   "execution_count": 208,
   "metadata": {},
   "outputs": [
    {
     "name": "stdout",
     "output_type": "stream",
     "text": [
      "{'@CnpjOgm': '123456789', '@NmOgm': 'NHS Teste', 'Cli': {'@TipCli': '1', '@IdfcCli': '45000000', 'EndCli': {'@LgrEndCli': 'Avenida Real do Parque'}, 'TelCli': [{'@DddTelCli': '11', '@NrTelCli': '36094332'}, {'@DddTelCli': '13', '@NrTelCli': '43244000'}], 'EndEtnCli': [{'@EmailCli': 'teste@ig.com.br'}, {'@EmailCli': 'ricardo@ig.com.br'}]}}\n"
     ]
    }
   ],
   "source": [
    "for x in data_dict.values():\n",
    "    print(x)"
   ]
  },
  {
   "cell_type": "code",
   "execution_count": 211,
   "metadata": {},
   "outputs": [
    {
     "name": "stdout",
     "output_type": "stream",
     "text": [
      "{'@LgrEndCli': 'Avenida Real do Parque'}\n",
      "{'@DddTelCli': '11', '@NrTelCli': '36094332'}\n",
      "[{'@EmailCli': 'teste@ig.com.br'}, {'@EmailCli': 'ricardo@ig.com.br'}]\n"
     ]
    }
   ],
   "source": [
    "valor = data_dict[\"Envocad\"]['Cli']['EndCli']\n",
    "print(valor)\n",
    "valor = data_dict[\"Envocad\"]['Cli']['TelCli'][0]\n",
    "print(valor)\n",
    "valor = data_dict[\"Envocad\"]['Cli']['EndEtnCli']\n",
    "print(valor)"
   ]
  },
  {
   "cell_type": "code",
   "execution_count": 232,
   "metadata": {},
   "outputs": [
    {
     "name": "stdout",
     "output_type": "stream",
     "text": [
      "['@EmailCli', '@EmailCli']\n"
     ]
    }
   ],
   "source": [
    "dados = []\n",
    "for x in data_dict[\"Envocad\"]['Cli']['EndCli']:\n",
    "    for x in data_dict[\"Envocad\"]['Cli']['TelCli'][0]:\n",
    "        for x in data_dict[\"Envocad\"]['Cli']['EndEtnCli'][1]:\n",
    "            dados.append(x)\n",
    "            \n",
    "    print(dados)\n",
    "    \n",
    "    df1 = pd.DataFrame(dados)"
   ]
  },
  {
   "cell_type": "code",
   "execution_count": 234,
   "metadata": {},
   "outputs": [
    {
     "ename": "RuntimeError",
     "evalue": "dictionary changed size during iteration",
     "output_type": "error",
     "traceback": [
      "\u001b[1;31m---------------------------------------------------------------------------\u001b[0m",
      "\u001b[1;31mRuntimeError\u001b[0m                              Traceback (most recent call last)",
      "\u001b[1;32m<ipython-input-234-aed41aa813b6>\u001b[0m in \u001b[0;36m<module>\u001b[1;34m\u001b[0m\n\u001b[1;32m----> 1\u001b[1;33m \u001b[1;32mfor\u001b[0m \u001b[0mline\u001b[0m \u001b[1;32min\u001b[0m \u001b[0mdata_dict\u001b[0m\u001b[1;33m:\u001b[0m\u001b[1;33m\u001b[0m\u001b[1;33m\u001b[0m\u001b[0m\n\u001b[0m\u001b[0;32m      2\u001b[0m     \u001b[1;32mif\u001b[0m \u001b[0mline\u001b[0m\u001b[1;33m[\u001b[0m\u001b[1;36m0\u001b[0m\u001b[1;33m]\u001b[0m \u001b[1;32min\u001b[0m \u001b[0mdata_dict\u001b[0m\u001b[1;33m:\u001b[0m\u001b[1;33m\u001b[0m\u001b[1;33m\u001b[0m\u001b[0m\n\u001b[0;32m      3\u001b[0m         \u001b[0mdata_dict\u001b[0m\u001b[1;33m[\u001b[0m\u001b[0mline\u001b[0m\u001b[1;33m[\u001b[0m\u001b[1;36m0\u001b[0m\u001b[1;33m]\u001b[0m\u001b[1;33m]\u001b[0m\u001b[1;33m.\u001b[0m\u001b[0mappend\u001b[0m\u001b[1;33m(\u001b[0m\u001b[0mline\u001b[0m\u001b[1;33m[\u001b[0m\u001b[1;36m1\u001b[0m\u001b[1;33m]\u001b[0m\u001b[1;33m)\u001b[0m\u001b[1;33m\u001b[0m\u001b[1;33m\u001b[0m\u001b[0m\n\u001b[0;32m      4\u001b[0m     \u001b[1;32melse\u001b[0m\u001b[1;33m:\u001b[0m\u001b[1;33m\u001b[0m\u001b[1;33m\u001b[0m\u001b[0m\n\u001b[0;32m      5\u001b[0m         \u001b[0mdata_dict\u001b[0m\u001b[1;33m[\u001b[0m\u001b[0mline\u001b[0m\u001b[1;33m[\u001b[0m\u001b[1;36m0\u001b[0m\u001b[1;33m]\u001b[0m\u001b[1;33m]\u001b[0m \u001b[1;33m=\u001b[0m \u001b[1;33m[\u001b[0m\u001b[0mline\u001b[0m\u001b[1;33m[\u001b[0m\u001b[1;36m1\u001b[0m\u001b[1;33m]\u001b[0m\u001b[1;33m]\u001b[0m\u001b[1;33m\u001b[0m\u001b[1;33m\u001b[0m\u001b[0m\n",
      "\u001b[1;31mRuntimeError\u001b[0m: dictionary changed size during iteration"
     ]
    }
   ],
   "source": [
    "for line in data_dict:\n",
    "    if line[0] in data_dict:\n",
    "        data_dict[line[0]].append(line[1])\n",
    "    else:\n",
    "        data_dict[line[0]] = [line[1]]"
   ]
  },
  {
   "cell_type": "code",
   "execution_count": 239,
   "metadata": {},
   "outputs": [
    {
     "name": "stdout",
     "output_type": "stream",
     "text": [
      "{'@CnpjOgm': '123456789', '@NmOgm': 'NHS Teste', 'Cli': {'@TipCli': '1', '@IdfcCli': '45000000', 'EndCli': {'@LgrEndCli': 'Avenida Real do Parque'}, 'TelCli': [{'@DddTelCli': '11', '@NrTelCli': '36094332'}, {'@DddTelCli': '13', '@NrTelCli': '43244000'}], 'EndEtnCli': [{'@EmailCli': 'teste@ig.com.br'}, {'@EmailCli': 'ricardo@ig.com.br'}]}}\n"
     ]
    }
   ],
   "source": [
    "print(data_dict.get('Envocad'))"
   ]
  },
  {
   "cell_type": "code",
   "execution_count": 241,
   "metadata": {},
   "outputs": [
    {
     "data": {
      "text/plain": [
       "[('Envocad',\n",
       "  {'@CnpjOgm': '123456789',\n",
       "   '@NmOgm': 'NHS Teste',\n",
       "   'Cli': {'@TipCli': '1',\n",
       "    '@IdfcCli': '45000000',\n",
       "    'EndCli': {'@LgrEndCli': 'Avenida Real do Parque'},\n",
       "    'TelCli': [{'@DddTelCli': '11', '@NrTelCli': '36094332'},\n",
       "     {'@DddTelCli': '13', '@NrTelCli': '43244000'}],\n",
       "    'EndEtnCli': [{'@EmailCli': 'teste@ig.com.br'},\n",
       "     {'@EmailCli': 'ricardo@ig.com.br'}]}}),\n",
       " ('E', ['n'])]"
      ]
     },
     "execution_count": 241,
     "metadata": {},
     "output_type": "execute_result"
    }
   ],
   "source": [
    "list(data_dict.items())"
   ]
  },
  {
   "cell_type": "code",
   "execution_count": 321,
   "metadata": {},
   "outputs": [],
   "source": [
    "def parse_xml(root):\n",
    "    attr = root.attrib\n",
    "    data = []\n",
    "    for root_element in eroot.findall(\"Cli\"):\n",
    "        xml_data = attr.copy()\n",
    "        for email in root_element.findall(\"EndCli\"):\n",
    "            for term in root_element.findall(\"EndEtnCli\"):\n",
    "                for term in root_element.findall(\"TelCli\")[0]:\n",
    "                    xml_data.update(root_element.attrib)\n",
    "                    xml_data.update(term.attrib)\n",
    "                    \n",
    "    yield xml_data"
   ]
  },
  {
   "cell_type": "code",
   "execution_count": 322,
   "metadata": {},
   "outputs": [
    {
     "data": {
      "text/html": [
       "<div>\n",
       "<style scoped>\n",
       "    .dataframe tbody tr th:only-of-type {\n",
       "        vertical-align: middle;\n",
       "    }\n",
       "\n",
       "    .dataframe tbody tr th {\n",
       "        vertical-align: top;\n",
       "    }\n",
       "\n",
       "    .dataframe thead th {\n",
       "        text-align: right;\n",
       "    }\n",
       "</style>\n",
       "<table border=\"1\" class=\"dataframe\">\n",
       "  <thead>\n",
       "    <tr style=\"text-align: right;\">\n",
       "      <th></th>\n",
       "      <th>CnpjOgm</th>\n",
       "      <th>NmOgm</th>\n",
       "    </tr>\n",
       "  </thead>\n",
       "  <tbody>\n",
       "    <tr>\n",
       "      <td>0</td>\n",
       "      <td>123456789</td>\n",
       "      <td>NHS Teste</td>\n",
       "    </tr>\n",
       "  </tbody>\n",
       "</table>\n",
       "</div>"
      ],
      "text/plain": [
       "     CnpjOgm      NmOgm\n",
       "0  123456789  NHS Teste"
      ]
     },
     "execution_count": 322,
     "metadata": {},
     "output_type": "execute_result"
    }
   ],
   "source": [
    "data = parse_xml(eroot)\n",
    "data = list(data)\n",
    "df = pd.DataFrame(data)\n",
    "df"
   ]
  },
  {
   "cell_type": "code",
   "execution_count": 380,
   "metadata": {},
   "outputs": [
    {
     "name": "stdout",
     "output_type": "stream",
     "text": [
      "[{'@DddTelCli': '11', '@NrTelCli': '36094332'}, {'@DddTelCli': '13', '@NrTelCli': '43244000'}]\n"
     ]
    }
   ],
   "source": [
    "for x in data_dict:\n",
    "    valor = data_dict[\"Envocad\"]\n",
    "\n",
    "    print(valor['Cli']['TelCli'])"
   ]
  },
  {
   "cell_type": "code",
   "execution_count": 342,
   "metadata": {},
   "outputs": [
    {
     "name": "stdout",
     "output_type": "stream",
     "text": [
      "{'A100': ['John', 'Johny'], 'A140': ['Mat', 'Matthew']}\n"
     ]
    },
    {
     "data": {
      "text/html": [
       "<div>\n",
       "<style scoped>\n",
       "    .dataframe tbody tr th:only-of-type {\n",
       "        vertical-align: middle;\n",
       "    }\n",
       "\n",
       "    .dataframe tbody tr th {\n",
       "        vertical-align: top;\n",
       "    }\n",
       "\n",
       "    .dataframe thead th {\n",
       "        text-align: right;\n",
       "    }\n",
       "</style>\n",
       "<table border=\"1\" class=\"dataframe\">\n",
       "  <thead>\n",
       "    <tr style=\"text-align: right;\">\n",
       "      <th></th>\n",
       "      <th>A100</th>\n",
       "      <th>A140</th>\n",
       "    </tr>\n",
       "  </thead>\n",
       "  <tbody>\n",
       "    <tr>\n",
       "      <td>0</td>\n",
       "      <td>John</td>\n",
       "      <td>Mat</td>\n",
       "    </tr>\n",
       "    <tr>\n",
       "      <td>1</td>\n",
       "      <td>Johny</td>\n",
       "      <td>Matthew</td>\n",
       "    </tr>\n",
       "  </tbody>\n",
       "</table>\n",
       "</div>"
      ],
      "text/plain": [
       "    A100     A140\n",
       "0   John      Mat\n",
       "1  Johny  Matthew"
      ]
     },
     "execution_count": 342,
     "metadata": {},
     "output_type": "execute_result"
    }
   ],
   "source": [
    "import xml.etree.ElementTree as ET\n",
    "\n",
    "xml_string = \"\"\"<root_records>\n",
    "<student>\n",
    "    <id>A100</id>\n",
    "    <name>John</name>\n",
    "    <name>Johny</name>\n",
    "    <dob>11/01/1999</dob>\n",
    "</student>\n",
    "<student>\n",
    "    <id>A140</id>\n",
    "    <name>Mat</name>\n",
    "    <name>Matthew</name>\n",
    "    <dob>01/01/1995</dob>\n",
    "</student></root_records>\"\"\"\n",
    "\n",
    "tree = ET.fromstring(xml_string)\n",
    "names = {}\n",
    "\n",
    "for i in tree.iter(\"student\"):\n",
    "    student_id = i.find(\"id\").text\n",
    "    k = [x.text for x in i.findall('name')]\n",
    "    names[student_id] = k\n",
    "\n",
    "print(names)\n",
    "df1 = pd.DataFrame(names)\n",
    "df1"
   ]
  },
  {
   "cell_type": "code",
   "execution_count": 46,
   "metadata": {},
   "outputs": [],
   "source": [
    "import pandas as pd\n",
    "import xmltodict\n",
    "import os, sys\n",
    "\n",
    "with open('download.xml') as fd:\n",
    "    doc = xmltodict.parse(fd.read())"
   ]
  },
  {
   "cell_type": "code",
   "execution_count": 47,
   "metadata": {},
   "outputs": [
    {
     "name": "stdout",
     "output_type": "stream",
     "text": [
      "{'Envocad': {'@CnpjOgm': '123456789', '@NmOgm': 'NHS Teste', 'Cli': [{'@TipCli': '1', '@IdfcCli': '45000000', 'EndCli': {'@LgrEndCli': 'Avenida Real do Parque', '@NroEndCli': '43'}, 'TelCli': [{'@DddTelCli': '11', '@NrTelCli': '36094332'}, {'@DddTelCli': '13', '@NrTelCli': '43244000'}], 'EndEtnCli': [{'@EmailCli': 'teste@ig.com.br'}, {'@EmailCli': 'ricardo@ig.com.br'}]}, {'@TipCli': '2', '@IdfcCli': '50400000', 'EndCli': {'@LgrEndCli': 'Rua Leal', '@NroEndCli': '40'}, 'TelCli': [{'@DddTelCli': '11', '@NrTelCli': '39099999'}, {'@DddTelCli': '14', '@NrTelCli': '49994000'}], 'EndEtnCli': [{'@EmailCli': 'robert@ig.com.br'}, {'@EmailCli': 'rica@ig.com.br'}]}]}}\n"
     ]
    }
   ],
   "source": [
    "print(doc)"
   ]
  },
  {
   "cell_type": "code",
   "execution_count": 55,
   "metadata": {},
   "outputs": [],
   "source": [
    "import pandas as pd\n",
    "import xmltodict\n",
    "\n",
    "with open('C:\\\\Users\\\\ricar\\\\Downloads\\\\Python-Data-Science-and-Machine-Learning-Bootcamp\\\\download.xml') as fd:\n",
    "    doc = xmltodict.parse(fd.read())\n",
    "\n",
    "lista_cli = []\n",
    "\n",
    "for cli in doc.get('Envocad').get('Cli'):\n",
    "    for telCli in cli.get('TelCli'):\n",
    "        for endEtnCli in cli.get('EndEtnCli'):\n",
    "            lista_cli.append({\n",
    "            'TipCli': cli.get('@TipCli'),\n",
    "            'IdfcCli': cli.get('@IdfcCli'),\n",
    "            'DddTelCli': telCli.get('@DddTelCli'),\n",
    "            'NrTelCli': telCli.get('@NrTelCli'),\n",
    "            'EmailCli': endEtnCli.get('@EmailCli')\n",
    "        })"
   ]
  },
  {
   "cell_type": "code",
   "execution_count": 67,
   "metadata": {},
   "outputs": [
    {
     "data": {
      "text/html": [
       "<div>\n",
       "<style scoped>\n",
       "    .dataframe tbody tr th:only-of-type {\n",
       "        vertical-align: middle;\n",
       "    }\n",
       "\n",
       "    .dataframe tbody tr th {\n",
       "        vertical-align: top;\n",
       "    }\n",
       "\n",
       "    .dataframe thead th {\n",
       "        text-align: right;\n",
       "    }\n",
       "</style>\n",
       "<table border=\"1\" class=\"dataframe\">\n",
       "  <thead>\n",
       "    <tr style=\"text-align: right;\">\n",
       "      <th></th>\n",
       "      <th>TipCli</th>\n",
       "      <th>IdfcCli</th>\n",
       "      <th>DddTelCli</th>\n",
       "      <th>NrTelCli</th>\n",
       "      <th>EmailCli</th>\n",
       "    </tr>\n",
       "  </thead>\n",
       "  <tbody>\n",
       "    <tr>\n",
       "      <td>0</td>\n",
       "      <td>1</td>\n",
       "      <td>45000000</td>\n",
       "      <td>11</td>\n",
       "      <td>36094332</td>\n",
       "      <td>teste@ig.com.br</td>\n",
       "    </tr>\n",
       "    <tr>\n",
       "      <td>2</td>\n",
       "      <td>1</td>\n",
       "      <td>45000000</td>\n",
       "      <td>13</td>\n",
       "      <td>43244000</td>\n",
       "      <td>teste@ig.com.br</td>\n",
       "    </tr>\n",
       "    <tr>\n",
       "      <td>4</td>\n",
       "      <td>2</td>\n",
       "      <td>50400000</td>\n",
       "      <td>11</td>\n",
       "      <td>39099999</td>\n",
       "      <td>robert@ig.com.br</td>\n",
       "    </tr>\n",
       "    <tr>\n",
       "      <td>6</td>\n",
       "      <td>2</td>\n",
       "      <td>50400000</td>\n",
       "      <td>14</td>\n",
       "      <td>49994000</td>\n",
       "      <td>robert@ig.com.br</td>\n",
       "    </tr>\n",
       "  </tbody>\n",
       "</table>\n",
       "</div>"
      ],
      "text/plain": [
       "  TipCli   IdfcCli DddTelCli  NrTelCli          EmailCli\n",
       "0      1  45000000        11  36094332   teste@ig.com.br\n",
       "2      1  45000000        13  43244000   teste@ig.com.br\n",
       "4      2  50400000        11  39099999  robert@ig.com.br\n",
       "6      2  50400000        14  49994000  robert@ig.com.br"
      ]
     },
     "execution_count": 67,
     "metadata": {},
     "output_type": "execute_result"
    }
   ],
   "source": [
    "df = pd.DataFrame(lista_cli)\n",
    "df.drop_duplicates('NrTelCli')"
   ]
  },
  {
   "cell_type": "code",
   "execution_count": 13,
   "metadata": {},
   "outputs": [
    {
     "ename": "ModuleNotFoundError",
     "evalue": "No module named 'azure'",
     "output_type": "error",
     "traceback": [
      "\u001b[1;31m---------------------------------------------------------------------------\u001b[0m",
      "\u001b[1;31mModuleNotFoundError\u001b[0m                       Traceback (most recent call last)",
      "\u001b[1;32m<ipython-input-13-fcf9e3b097ad>\u001b[0m in \u001b[0;36m<module>\u001b[1;34m()\u001b[0m\n\u001b[1;32m----> 1\u001b[1;33m \u001b[1;32mfrom\u001b[0m \u001b[0mazure\u001b[0m\u001b[1;33m.\u001b[0m\u001b[0mstorage\u001b[0m\u001b[1;33m.\u001b[0m\u001b[0mblob\u001b[0m \u001b[1;32mimport\u001b[0m \u001b[0mBlobServiceClient\u001b[0m\u001b[1;33m\u001b[0m\u001b[0m\n\u001b[0m\u001b[0;32m      2\u001b[0m \u001b[1;32mimport\u001b[0m \u001b[0mpandas\u001b[0m \u001b[1;32mas\u001b[0m \u001b[0mpd\u001b[0m\u001b[1;33m\u001b[0m\u001b[0m\n\u001b[0;32m      3\u001b[0m \u001b[1;33m\u001b[0m\u001b[0m\n\u001b[0;32m      4\u001b[0m \u001b[0mSTORAGEACCOUNTURL\u001b[0m\u001b[1;33m=\u001b[0m \u001b[1;34m'https://camadaraw.blob.core.windows.net/raw/cadastros.csv'\u001b[0m\u001b[1;33m\u001b[0m\u001b[0m\n\u001b[0;32m      5\u001b[0m \u001b[0mSTORAGEACCOUNTKEY\u001b[0m\u001b[1;33m=\u001b[0m \u001b[1;34m'5kATA5HTdReK1EfJ9GKrsLnBrWAwm79XD2rO%2BnOBk9A%3D'\u001b[0m\u001b[1;33m\u001b[0m\u001b[0m\n",
      "\u001b[1;31mModuleNotFoundError\u001b[0m: No module named 'azure'"
     ]
    }
   ],
   "source": [
    "from azure.storage.blob import BlobServiceClient\n",
    "import pandas as pd\n",
    "\n",
    "STORAGEACCOUNTURL= 'https://camadaraw.blob.core.windows.net/raw/cadastros.csv'\n",
    "STORAGEACCOUNTKEY= '5kATA5HTdReK1EfJ9GKrsLnBrWAwm79XD2rO%2BnOBk9A%3D'\n",
    "LOCALFILENAME= 'cadastros.csv'\n",
    "CONTAINERNAME= 'camadaraw'\n",
    "BLOBNAME= 'raw'\n",
    "\n",
    "#download from blob\n",
    "t1=time.time()\n",
    "blob_service_client_instance = BlobServiceClient(account_url=STORAGEACCOUNTURL, credential=STORAGEACCOUNTKEY)\n",
    "blob_client_instance = blob_service_client_instance.get_blob_client(CONTAINERNAME, BLOBNAME, snapshot=None)\n",
    "with open(LOCALFILENAME, \"wb\") as my_blob:\n",
    "    blob_data = blob_client_instance.download_blob()\n",
    "    blob_data.readinto(my_blob)\n",
    "t2=time.time()\n",
    "print((\"It takes %s seconds to download \"+BLOBNAME) % (t2 - t1))"
   ]
  },
  {
   "cell_type": "code",
   "execution_count": 2,
   "metadata": {},
   "outputs": [
    {
     "ename": "ModuleNotFoundError",
     "evalue": "No module named 'azure'",
     "output_type": "error",
     "traceback": [
      "\u001b[1;31m---------------------------------------------------------------------------\u001b[0m",
      "\u001b[1;31mModuleNotFoundError\u001b[0m                       Traceback (most recent call last)",
      "\u001b[1;32m<ipython-input-2-84c96b35b48d>\u001b[0m in \u001b[0;36m<module>\u001b[1;34m()\u001b[0m\n\u001b[1;32m----> 1\u001b[1;33m \u001b[1;32mimport\u001b[0m \u001b[0mazure\u001b[0m\u001b[1;33m.\u001b[0m\u001b[0mfunctions\u001b[0m\u001b[1;33m\u001b[0m\u001b[0m\n\u001b[0m\u001b[0;32m      2\u001b[0m \u001b[1;33m\u001b[0m\u001b[0m\n\u001b[0;32m      3\u001b[0m \u001b[1;32mdef\u001b[0m \u001b[0mmain\u001b[0m\u001b[1;33m(\u001b[0m\u001b[0mreq\u001b[0m\u001b[1;33m:\u001b[0m \u001b[0mazure\u001b[0m\u001b[1;33m.\u001b[0m\u001b[0mfunctions\u001b[0m\u001b[1;33m.\u001b[0m\u001b[0mHttpRequest\u001b[0m\u001b[1;33m)\u001b[0m \u001b[1;33m->\u001b[0m \u001b[0mstr\u001b[0m\u001b[1;33m:\u001b[0m\u001b[1;33m\u001b[0m\u001b[0m\n\u001b[0;32m      4\u001b[0m     \u001b[0muser\u001b[0m \u001b[1;33m=\u001b[0m \u001b[0mreq\u001b[0m\u001b[1;33m.\u001b[0m\u001b[0mparams\u001b[0m\u001b[1;33m.\u001b[0m\u001b[0mget\u001b[0m\u001b[1;33m(\u001b[0m\u001b[1;34m'user'\u001b[0m\u001b[1;33m)\u001b[0m\u001b[1;33m\u001b[0m\u001b[0m\n\u001b[0;32m      5\u001b[0m     \u001b[1;32mreturn\u001b[0m \u001b[1;34mf'Hello, {user}!'\u001b[0m\u001b[1;33m\u001b[0m\u001b[0m\n",
      "\u001b[1;31mModuleNotFoundError\u001b[0m: No module named 'azure'"
     ]
    }
   ],
   "source": [
    "import azure.functions\n",
    "\n",
    "def main(req: azure.functions.HttpRequest) -> str:\n",
    "    user = req.params.get('user')\n",
    "    return f'Hello, {user}!'"
   ]
  },
  {
   "cell_type": "code",
   "execution_count": 2,
   "metadata": {},
   "outputs": [
    {
     "ename": "ImportError",
     "evalue": "pyarrow is required for parquet support\n\nyou can install via conda\nconda install pyarrow -c conda-forge\n\nor via pip\npip install -U pyarrow\n",
     "output_type": "error",
     "traceback": [
      "\u001b[1;31m---------------------------------------------------------------------------\u001b[0m",
      "\u001b[1;31mModuleNotFoundError\u001b[0m                       Traceback (most recent call last)",
      "\u001b[1;32mC:\\Program Files (x86)\\Microsoft Visual Studio\\Shared\\Anaconda3_64\\lib\\site-packages\\pandas\\io\\parquet.py\u001b[0m in \u001b[0;36m__init__\u001b[1;34m(self)\u001b[0m\n\u001b[0;32m     78\u001b[0m         \u001b[1;32mtry\u001b[0m\u001b[1;33m:\u001b[0m\u001b[1;33m\u001b[0m\u001b[0m\n\u001b[1;32m---> 79\u001b[1;33m             \u001b[1;32mimport\u001b[0m \u001b[0mpyarrow\u001b[0m\u001b[1;33m\u001b[0m\u001b[0m\n\u001b[0m\u001b[0;32m     80\u001b[0m             \u001b[1;32mimport\u001b[0m \u001b[0mpyarrow\u001b[0m\u001b[1;33m.\u001b[0m\u001b[0mparquet\u001b[0m\u001b[1;33m\u001b[0m\u001b[0m\n",
      "\u001b[1;31mModuleNotFoundError\u001b[0m: No module named 'pyarrow'",
      "\nDuring handling of the above exception, another exception occurred:\n",
      "\u001b[1;31mImportError\u001b[0m                               Traceback (most recent call last)",
      "\u001b[1;32m<ipython-input-2-0df313d86268>\u001b[0m in \u001b[0;36m<module>\u001b[1;34m()\u001b[0m\n\u001b[0;32m      1\u001b[0m \u001b[1;32mimport\u001b[0m \u001b[0mpandas\u001b[0m \u001b[1;32mas\u001b[0m \u001b[0mpd\u001b[0m\u001b[1;33m\u001b[0m\u001b[0m\n\u001b[1;32m----> 2\u001b[1;33m \u001b[0mpd\u001b[0m\u001b[1;33m.\u001b[0m\u001b[0mread_parquet\u001b[0m\u001b[1;33m(\u001b[0m\u001b[1;34m'C:\\\\Users\\\\ricar\\\\Downloads\\\\userdata1.parquet'\u001b[0m\u001b[1;33m,\u001b[0m \u001b[0mengine\u001b[0m\u001b[1;33m=\u001b[0m\u001b[1;34m'pyarrow'\u001b[0m\u001b[1;33m)\u001b[0m\u001b[1;33m\u001b[0m\u001b[0m\n\u001b[0m",
      "\u001b[1;32mC:\\Program Files (x86)\\Microsoft Visual Studio\\Shared\\Anaconda3_64\\lib\\site-packages\\pandas\\io\\parquet.py\u001b[0m in \u001b[0;36mread_parquet\u001b[1;34m(path, engine, columns, **kwargs)\u001b[0m\n\u001b[0;32m    285\u001b[0m     \"\"\"\n\u001b[0;32m    286\u001b[0m \u001b[1;33m\u001b[0m\u001b[0m\n\u001b[1;32m--> 287\u001b[1;33m     \u001b[0mimpl\u001b[0m \u001b[1;33m=\u001b[0m \u001b[0mget_engine\u001b[0m\u001b[1;33m(\u001b[0m\u001b[0mengine\u001b[0m\u001b[1;33m)\u001b[0m\u001b[1;33m\u001b[0m\u001b[0m\n\u001b[0m\u001b[0;32m    288\u001b[0m     \u001b[1;32mreturn\u001b[0m \u001b[0mimpl\u001b[0m\u001b[1;33m.\u001b[0m\u001b[0mread\u001b[0m\u001b[1;33m(\u001b[0m\u001b[0mpath\u001b[0m\u001b[1;33m,\u001b[0m \u001b[0mcolumns\u001b[0m\u001b[1;33m=\u001b[0m\u001b[0mcolumns\u001b[0m\u001b[1;33m,\u001b[0m \u001b[1;33m**\u001b[0m\u001b[0mkwargs\u001b[0m\u001b[1;33m)\u001b[0m\u001b[1;33m\u001b[0m\u001b[0m\n",
      "\u001b[1;32mC:\\Program Files (x86)\\Microsoft Visual Studio\\Shared\\Anaconda3_64\\lib\\site-packages\\pandas\\io\\parquet.py\u001b[0m in \u001b[0;36mget_engine\u001b[1;34m(engine)\u001b[0m\n\u001b[0;32m     36\u001b[0m \u001b[1;33m\u001b[0m\u001b[0m\n\u001b[0;32m     37\u001b[0m     \u001b[1;32mif\u001b[0m \u001b[0mengine\u001b[0m \u001b[1;33m==\u001b[0m \u001b[1;34m'pyarrow'\u001b[0m\u001b[1;33m:\u001b[0m\u001b[1;33m\u001b[0m\u001b[0m\n\u001b[1;32m---> 38\u001b[1;33m         \u001b[1;32mreturn\u001b[0m \u001b[0mPyArrowImpl\u001b[0m\u001b[1;33m(\u001b[0m\u001b[1;33m)\u001b[0m\u001b[1;33m\u001b[0m\u001b[0m\n\u001b[0m\u001b[0;32m     39\u001b[0m     \u001b[1;32melif\u001b[0m \u001b[0mengine\u001b[0m \u001b[1;33m==\u001b[0m \u001b[1;34m'fastparquet'\u001b[0m\u001b[1;33m:\u001b[0m\u001b[1;33m\u001b[0m\u001b[0m\n\u001b[0;32m     40\u001b[0m         \u001b[1;32mreturn\u001b[0m \u001b[0mFastParquetImpl\u001b[0m\u001b[1;33m(\u001b[0m\u001b[1;33m)\u001b[0m\u001b[1;33m\u001b[0m\u001b[0m\n",
      "\u001b[1;32mC:\\Program Files (x86)\\Microsoft Visual Studio\\Shared\\Anaconda3_64\\lib\\site-packages\\pandas\\io\\parquet.py\u001b[0m in \u001b[0;36m__init__\u001b[1;34m(self)\u001b[0m\n\u001b[0;32m     81\u001b[0m         \u001b[1;32mexcept\u001b[0m \u001b[0mImportError\u001b[0m\u001b[1;33m:\u001b[0m\u001b[1;33m\u001b[0m\u001b[0m\n\u001b[0;32m     82\u001b[0m             raise ImportError(\n\u001b[1;32m---> 83\u001b[1;33m                 \u001b[1;34m\"pyarrow is required for parquet support\\n\\n\"\u001b[0m\u001b[1;33m\u001b[0m\u001b[0m\n\u001b[0m\u001b[0;32m     84\u001b[0m                 \u001b[1;34m\"you can install via conda\\n\"\u001b[0m\u001b[1;33m\u001b[0m\u001b[0m\n\u001b[0;32m     85\u001b[0m                 \u001b[1;34m\"conda install pyarrow -c conda-forge\\n\"\u001b[0m\u001b[1;33m\u001b[0m\u001b[0m\n",
      "\u001b[1;31mImportError\u001b[0m: pyarrow is required for parquet support\n\nyou can install via conda\nconda install pyarrow -c conda-forge\n\nor via pip\npip install -U pyarrow\n"
     ]
    }
   ],
   "source": [
    "import pandas as pd\n",
    "pd.read_parquet('C:\\\\Users\\\\ricar\\\\Downloads\\\\userdata1.parquet', engine='pyarrow')"
   ]
  },
  {
   "cell_type": "code",
   "execution_count": 13,
   "metadata": {},
   "outputs": [
    {
     "ename": "SyntaxError",
     "evalue": "invalid syntax (<ipython-input-13-ba7b5a569134>, line 19)",
     "output_type": "error",
     "traceback": [
      "\u001b[1;36m  File \u001b[1;32m\"<ipython-input-13-ba7b5a569134>\"\u001b[1;36m, line \u001b[1;32m19\u001b[0m\n\u001b[1;33m    https://camadaraw.blob.core.windows.net/raw/userdata1.parquet\u001b[0m\n\u001b[1;37m           ^\u001b[0m\n\u001b[1;31mSyntaxError\u001b[0m\u001b[1;31m:\u001b[0m invalid syntax\n"
     ]
    }
   ],
   "source": [
    "import pandas as pd\n",
    "from io import BytesIO\n",
    "from azure.storage.blob import ContainerClient\n",
    "\n",
    "path = 'raw'\n",
    "conn_string = 'https://camadaraw.blob.core.windows.net/'\n",
    "blob_name = f'{path}.parquet'\n",
    "\n",
    "container = ContainerClient.from_connection_string(conn_str=conn_string, container_name='camadaraw')\n",
    "\n",
    "blob_client = container.get_blob_client(blob=blob_name)\n",
    "stream_downloader = blob_client.download_blob()\n",
    "stream = BytesIO()\n",
    "stream_downloader.readinto(stream)\n",
    "processed_df = pd.read_parquet(stream, engine='pyarrow')\n",
    "\n",
    "\n",
    "\n",
    "https://camadaraw.blob.core.windows.net/raw/userdata1.parquet\n",
    "    \n",
    "'abfss://raw2@dlsuoledtechdev01.dfs.core.windows.net/opm/db"
   ]
  },
  {
   "cell_type": "code",
   "execution_count": 15,
   "metadata": {},
   "outputs": [
    {
     "ename": "ModuleNotFoundError",
     "evalue": "No module named 'azure'",
     "output_type": "error",
     "traceback": [
      "\u001b[1;31m---------------------------------------------------------------------------\u001b[0m",
      "\u001b[1;31mModuleNotFoundError\u001b[0m                       Traceback (most recent call last)",
      "\u001b[1;32m<ipython-input-15-e0b25ca686ac>\u001b[0m in \u001b[0;36m<module>\u001b[1;34m()\u001b[0m\n\u001b[1;32m----> 1\u001b[1;33m \u001b[1;32mfrom\u001b[0m \u001b[0mazure\u001b[0m\u001b[1;33m.\u001b[0m\u001b[0mstorage\u001b[0m\u001b[1;33m.\u001b[0m\u001b[0mblob\u001b[0m \u001b[1;32mimport\u001b[0m \u001b[0mBlockBlobService\u001b[0m\u001b[1;33m\u001b[0m\u001b[0m\n\u001b[0m\u001b[0;32m      2\u001b[0m \u001b[1;32mimport\u001b[0m \u001b[0mpandas\u001b[0m \u001b[1;32mas\u001b[0m \u001b[0mpd\u001b[0m\u001b[1;33m\u001b[0m\u001b[0m\n\u001b[0;32m      3\u001b[0m \u001b[1;32mfrom\u001b[0m \u001b[0mio\u001b[0m \u001b[1;32mimport\u001b[0m \u001b[0mBytesIO\u001b[0m\u001b[1;33m\u001b[0m\u001b[0m\n\u001b[0;32m      4\u001b[0m \u001b[1;33m\u001b[0m\u001b[0m\n\u001b[0;32m      5\u001b[0m \u001b[1;31m#Source account and key\u001b[0m\u001b[1;33m\u001b[0m\u001b[1;33m\u001b[0m\u001b[0m\n",
      "\u001b[1;31mModuleNotFoundError\u001b[0m: No module named 'azure'"
     ]
    }
   ],
   "source": []
  },
  {
   "cell_type": "code",
   "execution_count": null,
   "metadata": {},
   "outputs": [],
   "source": []
  }
 ],
 "metadata": {
  "kernelspec": {
   "display_name": "Python 3",
   "language": "python",
   "name": "python3"
  },
  "language_info": {
   "codemirror_mode": {
    "name": "ipython",
    "version": 3
   },
   "file_extension": ".py",
   "mimetype": "text/x-python",
   "name": "python",
   "nbconvert_exporter": "python",
   "pygments_lexer": "ipython3",
   "version": "3.7.4"
  }
 },
 "nbformat": 4,
 "nbformat_minor": 2
}
